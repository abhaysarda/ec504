{
 "cells": [
  {
   "cell_type": "code",
   "execution_count": 153,
   "metadata": {
    "collapsed": true
   },
   "outputs": [],
   "source": [
    "\"\"\"\n",
    "This is SciPy's kd-tree implementation that we used just to see how well can KD-trees perform\n",
    "Since it becomes kNN for small datasets, we see that the accuracy for it is the same as kNN.\n",
    "Our custom implementation performs slightly less better at 89% accuracy.\n",
    "\"\"\"\n",
    "\n",
    "import numpy as np\n",
    "import pandas as pd\n",
    "from sklearn.neighbors import KDTree\n",
    "from sklearn.neighbors import NearestNeighbors\n",
    "from sklearn.model_selection import train_test_split\n",
    "from time import time"
   ]
  },
  {
   "cell_type": "code",
   "execution_count": 154,
   "metadata": {
    "collapsed": true
   },
   "outputs": [],
   "source": [
    "#Import data file\n",
    "df = pd.read_csv('Final Data');\n",
    "y = df['Power Outage'];\n",
    "df = df.drop(['Power Outage'], axis=1);\n",
    "x = df[['Avg Wind Speed Squared','2 min wind speed squared','5 second wind speed squared','Fog/Ice','Heavy/Freezing Fog','Thunder']];\n",
    "x_train, x_test, y_train, y_test = train_test_split(x, y, test_size=0.2, random_state = 23);\n",
    "x_train.head();"
   ]
  },
  {
   "cell_type": "code",
   "execution_count": 155,
   "metadata": {
    "collapsed": true
   },
   "outputs": [],
   "source": [
    "#Benchmark against kNN\n",
    "from sklearn.neighbors import NearestNeighbors\n",
    "nbrs = NearestNeighbors(n_neighbors=3, algorithm='brute').fit(x_train);"
   ]
  },
  {
   "cell_type": "code",
   "execution_count": 156,
   "metadata": {},
   "outputs": [
    {
     "name": "stdout",
     "output_type": "stream",
     "text": [
      "KDTrees misclassified these many points: 0.0\n"
     ]
    }
   ],
   "source": [
    "#Calculate how often do KD-trees give identical results to kNN for the nearest neighbor search\n",
    "#The SciPy version gives the right neighb\n",
    "count = 0\n",
    "tree = KDTree(x_train,leaf_size=3);\n",
    "for data in x_test.values:\n",
    "    dist, ind1 = nbrs.kneighbors(data.reshape(1, -1));\n",
    "    dist, ind2 = tree.query(data.reshape(1,-1), k=3);\n",
    "    sum=0;\n",
    "    for i in range (0, len(ind[0,:])):\n",
    "        sum=sum+ind1[0,:][i]-ind2[0,:][i];\n",
    "    if(sum!=0):\n",
    "        print(ind1, ind2);\n",
    "        count=count+1;\n",
    "        \n",
    "total_count = x_test.shape[0];\n",
    "count = 100*(count/total_count);\n",
    "print(\"KDTrees misclassified these many points:\", count);"
   ]
  },
  {
   "cell_type": "code",
   "execution_count": 157,
   "metadata": {},
   "outputs": [],
   "source": [
    "#Find the label predicted by the KD-tree classifier\n",
    "tree = KDTree(x_train,leaf_size=3);\n",
    "pred = np.zeros(x_test.shape[0])\n",
    "count=0\n",
    "for data in x_test.values:\n",
    "    dist, ind = tree.query(data.reshape(1,-1), k=3);\n",
    "    sum=0;\n",
    "    for i in range (0, len(ind[0,:])):\n",
    "        index = ind[0,:][i];\n",
    "        sum = sum + y_train.iloc[index];\n",
    "    pred[count] = np.round(sum/3);\n",
    "    count=count+1;"
   ]
  },
  {
   "cell_type": "code",
   "execution_count": 158,
   "metadata": {},
   "outputs": [
    {
     "name": "stdout",
     "output_type": "stream",
     "text": [
      "Accuracy : 0.921875\n"
     ]
    },
    {
     "data": {
      "image/png": "[encoded data removed]",
      "text/plain": [
       "<matplotlib.figure.Figure at 0x11b0baa58>"
      ]
     },
     "metadata": {},
     "output_type": "display_data"
    }
   ],
   "source": [
    "#Calculate accuracy and heatmap\n",
    "import seaborn as sns\n",
    "import matplotlib.pyplot as plt\n",
    "from sklearn.metrics import confusion_matrix\n",
    "from sklearn.metrics import accuracy_score\n",
    "accuracy = accuracy_score(y_test.values, pred);\n",
    "cm = pd.DataFrame(confusion_matrix(y_test, pred));\n",
    "\n",
    "sns.heatmap(cm, annot=True);\n",
    "print(\"Accuracy :\", accuracy);\n",
    "plt.show();"
   ]
  },
  {
   "cell_type": "code",
   "execution_count": 159,
   "metadata": {},
   "outputs": [
    {
     "name": "stdout",
     "output_type": "stream",
     "text": [
      "Time:  0.002273082733154297\n"
     ]
    }
   ],
   "source": [
    "#Import KNN Classifier\n",
    "from sklearn.neighbors import KNeighborsClassifier\n",
    "from sklearn.metrics import accuracy_score\n",
    "from sklearn.model_selection import cross_val_score\n",
    "start = time()\n",
    "knn = KNeighborsClassifier(n_neighbors=3, weights=\"distance\")\n",
    "knn.fit(x_train, y_train);\n",
    "pred = knn.predict(x_test);\n",
    "print(\"Time: \", time()-start);\n",
    "accuracy = accuracy_score(y_test, pred);\n"
   ]
  },
  {
   "cell_type": "code",
   "execution_count": 160,
   "metadata": {
    "scrolled": true
   },
   "outputs": [
    {
     "name": "stdout",
     "output_type": "stream",
     "text": [
      "Accuracy:  0.921875\n"
     ]
    },
    {
     "data": {
      "image/png": "[encoded data removed]",
      "text/plain": [
       "<matplotlib.figure.Figure at 0x11b073160>"
      ]
     },
     "metadata": {},
     "output_type": "display_data"
    }
   ],
   "source": [
    "print(\"Accuracy: \", accuracy);\n",
    "# from sklearn.metrics import confusion_matrix\n",
    "# con_mat = confusion_matrix(y_test, pred, [0, 1])\n",
    "# print(con_mat)\n",
    "from sklearn.metrics import confusion_matrix\n",
    "\n",
    "cm = pd.DataFrame(confusion_matrix(y_test, pred));\n",
    "\n",
    "sns.heatmap(cm, annot=True);\n",
    "\n",
    "plt.show();"
   ]
  }
 ],
 "metadata": {
  "kernelspec": {
   "display_name": "Python 3",
   "language": "python",
   "name": "python3"
  },
  "language_info": {
   "codemirror_mode": {
    "name": "ipython",
    "version": 3
   },
   "file_extension": ".py",
   "mimetype": "text/x-python",
   "name": "python",
   "nbconvert_exporter": "python",
   "pygments_lexer": "ipython3",
   "version": "3.6.2"
  }
 },
 "nbformat": 4,
 "nbformat_minor": 2
}
