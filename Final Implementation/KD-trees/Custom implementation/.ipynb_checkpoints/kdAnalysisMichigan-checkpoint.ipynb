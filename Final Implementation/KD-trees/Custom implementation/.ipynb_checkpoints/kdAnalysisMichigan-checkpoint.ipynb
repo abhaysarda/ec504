{
 "cells": [
  {
   "cell_type": "code",
   "execution_count": 3,
   "metadata": {
    "collapsed": true
   },
   "outputs": [],
   "source": [
    "import numpy as np\n",
    "import pandas as pd\n",
    "from sklearn.neighbors import NearestNeighbors\n",
    "from sklearn.model_selection import train_test_split\n",
    "from time import time\n",
    "import math"
   ]
  },
  {
   "cell_type": "code",
   "execution_count": 4,
   "metadata": {},
   "outputs": [],
   "source": [
    "df = pd.read_csv('Final Data');\n",
    "y = df['Power Outage'];\n",
    "df = df.drop(['Power Outage'], axis=1);\n",
    "x = df[['Avg Wind Speed Squared','2 min wind speed squared','5 second wind speed squared','Fog/Ice', 'Thunder']];\n",
    "x_train, x_test, y_train, y_test = train_test_split(x, y, test_size=0.2, random_state = 23);\n",
    "x_train.head();"
   ]
  },
  {
   "cell_type": "code",
   "execution_count": 5,
   "metadata": {
    "collapsed": true
   },
   "outputs": [],
   "source": [
    "from sklearn.neighbors import NearestNeighbors\n",
    "nbrs = NearestNeighbors(n_neighbors=3, algorithm='brute').fit(x_train);"
   ]
  },
  {
   "cell_type": "code",
   "execution_count": 6,
   "metadata": {
    "collapsed": true
   },
   "outputs": [],
   "source": [
    "def euclidean(point1, point2):\n",
    "    \"\"\"\n",
    "    Finds the euclidean distance between two points (tuples of k dimensions each)\n",
    "    \"\"\"\n",
    "    distance = 0\n",
    "    for i in range(len(point1)):\n",
    "        distance += (point1[i] - point2[i]) ** 2\n",
    "    return math.sqrt(distance)\n",
    "\n",
    "\n",
    "def closestPoint(allNeighbors, point):\n",
    "    \"\"\"\n",
    "    Brute force way to find the closest point\n",
    "    \"\"\"\n",
    "    minDistance = None\n",
    "    minPoint = None\n",
    "    for current in allNeighbors:\n",
    "        currentDistance = euclidean(point, current)\n",
    "        if minDistance is None or currentDistance < minDistance:\n",
    "            minDistance = currentDistance\n",
    "            minPoint = current\n",
    "    return minPoint\n",
    "\n",
    "\n",
    "def build_kdtree(points, depth=0):\n",
    "    \"\"\"\n",
    "    Builds a kdtree\n",
    "    \"\"\"\n",
    "    n = len(points)\n",
    "    # if no points, can't build a kdtree\n",
    "    if n <=0:\n",
    "        return None\n",
    "\n",
    "    axis = depth % k\n",
    "    # sort the points based on the axis\n",
    "    sorted_points = sorted(points, key=lambda point: point[axis])\n",
    "    # the middle index is the splitting point\n",
    "    mid = n//2\n",
    "    # return the point, left subtree and right subtree\n",
    "    return {\n",
    "        'point': sorted_points[mid],\n",
    "        'left': build_kdtree(sorted_points[:mid], depth + 1),\n",
    "        'right': build_kdtree(sorted_points[mid + 1:], depth + 1)\n",
    "    }\n",
    "\n",
    "\n",
    "def kdTreeClosest(root, point, depth=0, nearest=None):\n",
    "    \"\"\"\n",
    "    Finds the nearest neighbor in the kdtree\n",
    "    \"\"\"\n",
    "    if root is None:\n",
    "        return nearest\n",
    "\n",
    "    axis = depth % k\n",
    "    # did we find a better result so far?\n",
    "    next_best = None\n",
    "    # the next branch to recurse on\n",
    "    next_branch = None\n",
    "    # distance between the searching point and the best result (nearest)\n",
    "    if nearest is None or euclidean(point, nearest) > euclidean(point, root['point']):\n",
    "        next_best = root['point']\n",
    "    else:\n",
    "        next_best = nearest\n",
    "    # find which tree to recurse on\n",
    "    # if item on left, recurse on left\n",
    "    if point[axis] < root['point'][axis]:\n",
    "        next_branch = root['left']\n",
    "    else:\n",
    "        # recurse right\n",
    "        next_branch = root['right']\n",
    "\n",
    "    return kdTreeClosest(next_branch, point, depth+1, next_best)"
   ]
  },
  {
   "cell_type": "code",
   "execution_count": 7,
   "metadata": {
    "collapsed": true
   },
   "outputs": [],
   "source": [
    "# swarnim kd trees\n",
    "trainTuples = [tuple(z) for z in x_train.values]\n",
    "k = len(trainTuples[0])\n",
    "trainOut = y_train.values\n",
    "kdTree = build_kdtree(trainTuples)"
   ]
  },
  {
   "cell_type": "code",
   "execution_count": 8,
   "metadata": {
    "collapsed": true
   },
   "outputs": [],
   "source": [
    "testTuples = [tuple(z) for z in x_test.values]\n",
    "testOut = y_test.values"
   ]
  },
  {
   "cell_type": "code",
   "execution_count": 9,
   "metadata": {},
   "outputs": [
    {
     "ename": "ValueError",
     "evalue": "(0.0038456028917407867, 0.3695652173913045, 6.245004513516506e-17) is not in list",
     "output_type": "error",
     "traceback": [
      "\u001b[0;31m---------------------------------------------------------------------------\u001b[0m",
      "\u001b[0;31mValueError\u001b[0m                                Traceback (most recent call last)",
      "\u001b[0;32m<ipython-input-9-b0477c232ca6>\u001b[0m in \u001b[0;36m<module>\u001b[0;34m()\u001b[0m\n\u001b[0;32m----> 1\u001b[0;31m \u001b[0mtrainTuples\u001b[0m\u001b[0;34m.\u001b[0m\u001b[0mindex\u001b[0m\u001b[0;34m(\u001b[0m\u001b[0;34m(\u001b[0m\u001b[0;36m0.0038456028917407867\u001b[0m\u001b[0;34m,\u001b[0m \u001b[0;36m0.3695652173913045\u001b[0m\u001b[0;34m,\u001b[0m \u001b[0;36m6.245004513516506e-17\u001b[0m\u001b[0;34m)\u001b[0m\u001b[0;34m)\u001b[0m\u001b[0;34m\u001b[0m\u001b[0m\n\u001b[0m",
      "\u001b[0;31mValueError\u001b[0m: (0.0038456028917407867, 0.3695652173913045, 6.245004513516506e-17) is not in list"
     ]
    }
   ],
   "source": [
    "trainTuples.index((0.0038456028917407867, 0.3695652173913045, 6.245004513516506e-17))"
   ]
  },
  {
   "cell_type": "code",
   "execution_count": null,
   "metadata": {
    "collapsed": true
   },
   "outputs": [],
   "source": [
    "pred = []\n",
    "for key, val in enumerate(testTuples):\n",
    "    kdClosest = kdTreeClosest(kdTree, val)\n",
    "    kdIndex = trainTuples.index(kdClosest)\n",
    "    kdOut = trainOut[kdIndex]\n",
    "    realOut = testOut[key]\n",
    "    pred.append(kdOut)"
   ]
  },
  {
   "cell_type": "code",
   "execution_count": null,
   "metadata": {},
   "outputs": [],
   "source": [
    "import seaborn as sns\n",
    "import matplotlib.pyplot as plt\n",
    "from sklearn.metrics import confusion_matrix\n",
    "from sklearn.metrics import accuracy_score\n",
    "accuracy = accuracy_score(y_test.values, pred);\n",
    "cm = pd.DataFrame(confusion_matrix(y_test, pred));\n",
    "print(\"Accuracy: \", accuracy)\n",
    "sns.heatmap(cm, annot=True);\n",
    "plt.show();"
   ]
  }
 ],
 "metadata": {
  "kernelspec": {
   "display_name": "Python 3",
   "language": "python",
   "name": "python3"
  },
  "language_info": {
   "codemirror_mode": {
    "name": "ipython",
    "version": 3
   },
   "file_extension": ".py",
   "mimetype": "text/x-python",
   "name": "python",
   "nbconvert_exporter": "python",
   "pygments_lexer": "ipython3",
   "version": "3.6.2"
  }
 },
 "nbformat": 4,
 "nbformat_minor": 2
}
