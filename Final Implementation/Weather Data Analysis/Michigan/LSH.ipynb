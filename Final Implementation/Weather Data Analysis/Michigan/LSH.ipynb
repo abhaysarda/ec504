{
 "cells": [
  {
   "cell_type": "code",
   "execution_count": 384,
   "metadata": {},
   "outputs": [],
   "source": [
    "import pandas as pd\n",
    "import os\n",
    "from datasketch import MinHash\n",
    "from sklearn.cross_validation import train_test_split;\n",
    "import numpy as np\n",
    "import math\n",
    "import itertools\n",
    "import random"
   ]
  },
  {
   "cell_type": "code",
   "execution_count": 80,
   "metadata": {},
   "outputs": [
    {
     "data": {
      "text/plain": [
       "['.ipynb_checkpoints',\n",
       " 'analysis.ipynb',\n",
       " 'data.csv',\n",
       " 'LSH.ipynb',\n",
       " 'Michigan.xlsx']"
      ]
     },
     "execution_count": 80,
     "metadata": {},
     "output_type": "execute_result"
    }
   ],
   "source": [
    "os.listdir()"
   ]
  },
  {
   "cell_type": "code",
   "execution_count": 81,
   "metadata": {},
   "outputs": [],
   "source": [
    "AWS = weather['Average Wind Speed']"
   ]
  },
  {
   "cell_type": "code",
   "execution_count": 82,
   "metadata": {
    "collapsed": true
   },
   "outputs": [],
   "source": [
    "PRCP = weather['PRCP']"
   ]
  },
  {
   "cell_type": "code",
   "execution_count": 83,
   "metadata": {},
   "outputs": [
    {
     "data": {
      "text/plain": [
       "2910"
      ]
     },
     "execution_count": 83,
     "metadata": {},
     "output_type": "execute_result"
    }
   ],
   "source": [
    "len(PRCP)"
   ]
  },
  {
   "cell_type": "code",
   "execution_count": 90,
   "metadata": {
    "collapsed": true
   },
   "outputs": [],
   "source": [
    "df = pd.read_csv('data.csv')"
   ]
  },
  {
   "cell_type": "code",
   "execution_count": 91,
   "metadata": {
    "collapsed": true
   },
   "outputs": [],
   "source": [
    "df.fillna(0, inplace=True)"
   ]
  },
  {
   "cell_type": "code",
   "execution_count": 93,
   "metadata": {
    "scrolled": true
   },
   "outputs": [
    {
     "data": {
      "text/html": [
       "<div>\n",
       "<style>\n",
       "    .dataframe thead tr:only-child th {\n",
       "        text-align: right;\n",
       "    }\n",
       "\n",
       "    .dataframe thead th {\n",
       "        text-align: left;\n",
       "    }\n",
       "\n",
       "    .dataframe tbody tr th {\n",
       "        vertical-align: top;\n",
       "    }\n",
       "</style>\n",
       "<table border=\"1\" class=\"dataframe\">\n",
       "  <thead>\n",
       "    <tr style=\"text-align: right;\">\n",
       "      <th></th>\n",
       "      <th>Average Wind Speed</th>\n",
       "      <th>PRCP</th>\n",
       "      <th>TMAX</th>\n",
       "      <th>TMIN</th>\n",
       "      <th>Fastest 2 minute wind speed</th>\n",
       "      <th>Fastest 5 second wind speed</th>\n",
       "      <th>Fog/Ice</th>\n",
       "      <th>Heavy/Freezing Fog</th>\n",
       "      <th>Thunder</th>\n",
       "      <th>Smoke/Haze</th>\n",
       "      <th>Power Outage</th>\n",
       "    </tr>\n",
       "  </thead>\n",
       "  <tbody>\n",
       "    <tr>\n",
       "      <th>count</th>\n",
       "      <td>2910.000000</td>\n",
       "      <td>2910.000000</td>\n",
       "      <td>2910.000000</td>\n",
       "      <td>2910.000000</td>\n",
       "      <td>2910.000000</td>\n",
       "      <td>2910.000000</td>\n",
       "      <td>2910.000000</td>\n",
       "      <td>2910.000000</td>\n",
       "      <td>2910.000000</td>\n",
       "      <td>2910.000000</td>\n",
       "      <td>2910.000000</td>\n",
       "    </tr>\n",
       "    <tr>\n",
       "      <th>mean</th>\n",
       "      <td>7.274945</td>\n",
       "      <td>0.079595</td>\n",
       "      <td>59.249828</td>\n",
       "      <td>37.227835</td>\n",
       "      <td>18.562715</td>\n",
       "      <td>28.019416</td>\n",
       "      <td>0.344674</td>\n",
       "      <td>0.100344</td>\n",
       "      <td>0.053265</td>\n",
       "      <td>0.150172</td>\n",
       "      <td>0.014433</td>\n",
       "    </tr>\n",
       "    <tr>\n",
       "      <th>std</th>\n",
       "      <td>3.533600</td>\n",
       "      <td>0.225217</td>\n",
       "      <td>21.368136</td>\n",
       "      <td>18.345112</td>\n",
       "      <td>7.288373</td>\n",
       "      <td>17.480074</td>\n",
       "      <td>0.475343</td>\n",
       "      <td>0.300509</td>\n",
       "      <td>0.224599</td>\n",
       "      <td>0.357301</td>\n",
       "      <td>0.119288</td>\n",
       "    </tr>\n",
       "    <tr>\n",
       "      <th>min</th>\n",
       "      <td>0.000000</td>\n",
       "      <td>0.000000</td>\n",
       "      <td>0.000000</td>\n",
       "      <td>-30.000000</td>\n",
       "      <td>0.000000</td>\n",
       "      <td>0.000000</td>\n",
       "      <td>0.000000</td>\n",
       "      <td>0.000000</td>\n",
       "      <td>0.000000</td>\n",
       "      <td>0.000000</td>\n",
       "      <td>0.000000</td>\n",
       "    </tr>\n",
       "    <tr>\n",
       "      <th>25%</th>\n",
       "      <td>4.700000</td>\n",
       "      <td>0.000000</td>\n",
       "      <td>41.000000</td>\n",
       "      <td>25.000000</td>\n",
       "      <td>14.100000</td>\n",
       "      <td>19.000000</td>\n",
       "      <td>0.000000</td>\n",
       "      <td>0.000000</td>\n",
       "      <td>0.000000</td>\n",
       "      <td>0.000000</td>\n",
       "      <td>0.000000</td>\n",
       "    </tr>\n",
       "    <tr>\n",
       "      <th>50%</th>\n",
       "      <td>6.930000</td>\n",
       "      <td>0.000000</td>\n",
       "      <td>62.000000</td>\n",
       "      <td>38.000000</td>\n",
       "      <td>17.000000</td>\n",
       "      <td>23.900000</td>\n",
       "      <td>0.000000</td>\n",
       "      <td>0.000000</td>\n",
       "      <td>0.000000</td>\n",
       "      <td>0.000000</td>\n",
       "      <td>0.000000</td>\n",
       "    </tr>\n",
       "    <tr>\n",
       "      <th>75%</th>\n",
       "      <td>9.400000</td>\n",
       "      <td>0.030000</td>\n",
       "      <td>78.000000</td>\n",
       "      <td>52.000000</td>\n",
       "      <td>21.900000</td>\n",
       "      <td>31.100000</td>\n",
       "      <td>1.000000</td>\n",
       "      <td>0.000000</td>\n",
       "      <td>0.000000</td>\n",
       "      <td>0.000000</td>\n",
       "      <td>0.000000</td>\n",
       "    </tr>\n",
       "    <tr>\n",
       "      <th>max</th>\n",
       "      <td>22.150000</td>\n",
       "      <td>4.000000</td>\n",
       "      <td>102.000000</td>\n",
       "      <td>73.000000</td>\n",
       "      <td>83.000000</td>\n",
       "      <td>185.000000</td>\n",
       "      <td>1.000000</td>\n",
       "      <td>1.000000</td>\n",
       "      <td>1.000000</td>\n",
       "      <td>1.000000</td>\n",
       "      <td>1.000000</td>\n",
       "    </tr>\n",
       "  </tbody>\n",
       "</table>\n",
       "</div>"
      ],
      "text/plain": [
       "       Average Wind Speed         PRCP         TMAX         TMIN  \\\n",
       "count         2910.000000  2910.000000  2910.000000  2910.000000   \n",
       "mean             7.274945     0.079595    59.249828    37.227835   \n",
       "std              3.533600     0.225217    21.368136    18.345112   \n",
       "min              0.000000     0.000000     0.000000   -30.000000   \n",
       "25%              4.700000     0.000000    41.000000    25.000000   \n",
       "50%              6.930000     0.000000    62.000000    38.000000   \n",
       "75%              9.400000     0.030000    78.000000    52.000000   \n",
       "max             22.150000     4.000000   102.000000    73.000000   \n",
       "\n",
       "       Fastest 2 minute wind speed  Fastest 5 second wind speed      Fog/Ice  \\\n",
       "count                  2910.000000                  2910.000000  2910.000000   \n",
       "mean                     18.562715                    28.019416     0.344674   \n",
       "std                       7.288373                    17.480074     0.475343   \n",
       "min                       0.000000                     0.000000     0.000000   \n",
       "25%                      14.100000                    19.000000     0.000000   \n",
       "50%                      17.000000                    23.900000     0.000000   \n",
       "75%                      21.900000                    31.100000     1.000000   \n",
       "max                      83.000000                   185.000000     1.000000   \n",
       "\n",
       "       Heavy/Freezing Fog      Thunder   Smoke/Haze  Power Outage  \n",
       "count         2910.000000  2910.000000  2910.000000   2910.000000  \n",
       "mean             0.100344     0.053265     0.150172      0.014433  \n",
       "std              0.300509     0.224599     0.357301      0.119288  \n",
       "min              0.000000     0.000000     0.000000      0.000000  \n",
       "25%              0.000000     0.000000     0.000000      0.000000  \n",
       "50%              0.000000     0.000000     0.000000      0.000000  \n",
       "75%              0.000000     0.000000     0.000000      0.000000  \n",
       "max              1.000000     1.000000     1.000000      1.000000  "
      ]
     },
     "execution_count": 93,
     "metadata": {},
     "output_type": "execute_result"
    }
   ],
   "source": [
    "df.describe()"
   ]
  },
  {
   "cell_type": "code",
   "execution_count": 215,
   "metadata": {},
   "outputs": [
    {
     "data": {
      "text/plain": [
       "3.533599814994269"
      ]
     },
     "execution_count": 215,
     "metadata": {},
     "output_type": "execute_result"
    }
   ],
   "source": [
    "AWS = df['Average Wind Speed']\n",
    "AWS.std()"
   ]
  },
  {
   "cell_type": "code",
   "execution_count": 216,
   "metadata": {},
   "outputs": [],
   "source": [
    "def splitVectors(array, maxVal, nSplits):\n",
    "    featureVec = []\n",
    "    for val in array:\n",
    "        innerArr = [0] * (int(maxVal)//nSplits + 1)\n",
    "        index = int(math.ceil(val/nSplits)) - 1\n",
    "        innerArr[index] = 1\n",
    "        featureVec.append(innerArr)\n",
    "    return featureVec"
   ]
  },
  {
   "cell_type": "code",
   "execution_count": 217,
   "metadata": {},
   "outputs": [
    {
     "data": {
      "text/plain": [
       "22.149999999999999"
      ]
     },
     "execution_count": 217,
     "metadata": {},
     "output_type": "execute_result"
    }
   ],
   "source": [
    "AWS.max()"
   ]
  },
  {
   "cell_type": "code",
   "execution_count": 218,
   "metadata": {},
   "outputs": [
    {
     "data": {
      "text/html": [
       "<div>\n",
       "<style>\n",
       "    .dataframe thead tr:only-child th {\n",
       "        text-align: right;\n",
       "    }\n",
       "\n",
       "    .dataframe thead th {\n",
       "        text-align: left;\n",
       "    }\n",
       "\n",
       "    .dataframe tbody tr th {\n",
       "        vertical-align: top;\n",
       "    }\n",
       "</style>\n",
       "<table border=\"1\" class=\"dataframe\">\n",
       "  <thead>\n",
       "    <tr style=\"text-align: right;\">\n",
       "      <th></th>\n",
       "      <th>DATE</th>\n",
       "      <th>Average Wind Speed</th>\n",
       "      <th>PRCP</th>\n",
       "      <th>TMAX</th>\n",
       "      <th>TMIN</th>\n",
       "      <th>Fastest 2 minute wind speed</th>\n",
       "      <th>Fastest 5 second wind speed</th>\n",
       "      <th>Fog/Ice</th>\n",
       "      <th>Heavy/Freezing Fog</th>\n",
       "      <th>Thunder</th>\n",
       "      <th>Smoke/Haze</th>\n",
       "      <th>Power Outage</th>\n",
       "    </tr>\n",
       "  </thead>\n",
       "  <tbody>\n",
       "    <tr>\n",
       "      <th>0</th>\n",
       "      <td>1/1/2010</td>\n",
       "      <td>10.74</td>\n",
       "      <td>0.0</td>\n",
       "      <td>26.0</td>\n",
       "      <td>14.0</td>\n",
       "      <td>21.9</td>\n",
       "      <td>28.0</td>\n",
       "      <td>0.0</td>\n",
       "      <td>0.0</td>\n",
       "      <td>0.0</td>\n",
       "      <td>0.0</td>\n",
       "      <td>0.0</td>\n",
       "    </tr>\n",
       "    <tr>\n",
       "      <th>1</th>\n",
       "      <td>1/2/2010</td>\n",
       "      <td>11.18</td>\n",
       "      <td>0.0</td>\n",
       "      <td>14.0</td>\n",
       "      <td>5.0</td>\n",
       "      <td>23.9</td>\n",
       "      <td>35.1</td>\n",
       "      <td>0.0</td>\n",
       "      <td>0.0</td>\n",
       "      <td>0.0</td>\n",
       "      <td>0.0</td>\n",
       "      <td>0.0</td>\n",
       "    </tr>\n",
       "    <tr>\n",
       "      <th>2</th>\n",
       "      <td>1/3/2010</td>\n",
       "      <td>12.30</td>\n",
       "      <td>0.0</td>\n",
       "      <td>23.0</td>\n",
       "      <td>4.0</td>\n",
       "      <td>23.0</td>\n",
       "      <td>30.0</td>\n",
       "      <td>0.0</td>\n",
       "      <td>0.0</td>\n",
       "      <td>0.0</td>\n",
       "      <td>0.0</td>\n",
       "      <td>0.0</td>\n",
       "    </tr>\n",
       "    <tr>\n",
       "      <th>3</th>\n",
       "      <td>1/4/2010</td>\n",
       "      <td>9.40</td>\n",
       "      <td>0.0</td>\n",
       "      <td>25.0</td>\n",
       "      <td>19.0</td>\n",
       "      <td>16.1</td>\n",
       "      <td>21.9</td>\n",
       "      <td>0.0</td>\n",
       "      <td>0.0</td>\n",
       "      <td>0.0</td>\n",
       "      <td>1.0</td>\n",
       "      <td>0.0</td>\n",
       "    </tr>\n",
       "    <tr>\n",
       "      <th>4</th>\n",
       "      <td>1/5/2010</td>\n",
       "      <td>8.50</td>\n",
       "      <td>0.0</td>\n",
       "      <td>28.0</td>\n",
       "      <td>22.0</td>\n",
       "      <td>15.0</td>\n",
       "      <td>21.9</td>\n",
       "      <td>1.0</td>\n",
       "      <td>0.0</td>\n",
       "      <td>0.0</td>\n",
       "      <td>1.0</td>\n",
       "      <td>0.0</td>\n",
       "    </tr>\n",
       "  </tbody>\n",
       "</table>\n",
       "</div>"
      ],
      "text/plain": [
       "       DATE  Average Wind Speed  PRCP  TMAX  TMIN  \\\n",
       "0  1/1/2010               10.74   0.0  26.0  14.0   \n",
       "1  1/2/2010               11.18   0.0  14.0   5.0   \n",
       "2  1/3/2010               12.30   0.0  23.0   4.0   \n",
       "3  1/4/2010                9.40   0.0  25.0  19.0   \n",
       "4  1/5/2010                8.50   0.0  28.0  22.0   \n",
       "\n",
       "   Fastest 2 minute wind speed  Fastest 5 second wind speed  Fog/Ice  \\\n",
       "0                         21.9                         28.0      0.0   \n",
       "1                         23.9                         35.1      0.0   \n",
       "2                         23.0                         30.0      0.0   \n",
       "3                         16.1                         21.9      0.0   \n",
       "4                         15.0                         21.9      1.0   \n",
       "\n",
       "   Heavy/Freezing Fog  Thunder  Smoke/Haze  Power Outage  \n",
       "0                 0.0      0.0         0.0           0.0  \n",
       "1                 0.0      0.0         0.0           0.0  \n",
       "2                 0.0      0.0         0.0           0.0  \n",
       "3                 0.0      0.0         1.0           0.0  \n",
       "4                 0.0      0.0         1.0           0.0  "
      ]
     },
     "execution_count": 218,
     "metadata": {},
     "output_type": "execute_result"
    }
   ],
   "source": [
    "df.head()"
   ]
  },
  {
   "cell_type": "code",
   "execution_count": 238,
   "metadata": {},
   "outputs": [],
   "source": [
    "AWSvec = splitVectors(AWS.tolist(), AWS.max(), 3)"
   ]
  },
  {
   "cell_type": "code",
   "execution_count": 240,
   "metadata": {
    "collapsed": true
   },
   "outputs": [],
   "source": [
    "TMAXvec = splitVectors(df['TMAX'].tolist(), df['TMAX'].max(), 21)"
   ]
  },
  {
   "cell_type": "code",
   "execution_count": 230,
   "metadata": {},
   "outputs": [],
   "source": [
    "FFSW = splitVectors(df['Fastest 5 second wind speed'].tolist(), df['Fastest 5 second wind speed'].max(), 17)"
   ]
  },
  {
   "cell_type": "code",
   "execution_count": 236,
   "metadata": {
    "collapsed": true
   },
   "outputs": [],
   "source": [
    "FTMW = splitVectors(df['Fastest 2 minute wind speed'].tolist(), df['Fastest 2 minute wind speed'].max(), 7)"
   ]
  },
  {
   "cell_type": "code",
   "execution_count": 252,
   "metadata": {
    "collapsed": true
   },
   "outputs": [],
   "source": [
    "Fog = df['Fog/Ice'].astype(int).tolist()"
   ]
  },
  {
   "cell_type": "code",
   "execution_count": 249,
   "metadata": {
    "collapsed": true
   },
   "outputs": [],
   "source": [
    "Thunder = df['Thunder'].astype(int).tolist()"
   ]
  },
  {
   "cell_type": "code",
   "execution_count": 251,
   "metadata": {},
   "outputs": [],
   "source": [
    "PowerOutage = df['Power Outage'].astype(int).tolist()"
   ]
  },
  {
   "cell_type": "code",
   "execution_count": 277,
   "metadata": {
    "collapsed": true
   },
   "outputs": [],
   "source": [
    "featureVec = []"
   ]
  },
  {
   "cell_type": "code",
   "execution_count": 292,
   "metadata": {
    "collapsed": true
   },
   "outputs": [],
   "source": [
    "featureVec.append(AWSvec)\n",
    "featureVec.append(TMAXvec)\n",
    "featureVec.append(FFSW)\n",
    "featureVec.append(FTMW)\n",
    "featureVec.append(Fog)\n",
    "featureVec.append(Thunder)\n",
    "featureVec.append(PowerOutage)"
   ]
  },
  {
   "cell_type": "code",
   "execution_count": 282,
   "metadata": {},
   "outputs": [
    {
     "data": {
      "text/plain": [
       "7"
      ]
     },
     "execution_count": 282,
     "metadata": {},
     "output_type": "execute_result"
    }
   ],
   "source": [
    "len(featureVec)"
   ]
  },
  {
   "cell_type": "code",
   "execution_count": 309,
   "metadata": {},
   "outputs": [],
   "source": [
    "featureVec = []\n",
    "for i in range(len(FFSW)):\n",
    "    innerVec = []\n",
    "    innerVec.append(AWSvec[i])\n",
    "    innerVec.append(TMAXvec[i])\n",
    "    innerVec.append(FFSW[i])\n",
    "    innerVec.append(FTMW[i])\n",
    "    innerVec.append([Fog[i]])\n",
    "    innerVec.append([Thunder[i]])\n",
    "    innerVec.append([PowerOutage[i]])\n",
    "    combined = [item for sublist in innerVec for item in sublist]\n",
    "    featureVec.append(combined)"
   ]
  },
  {
   "cell_type": "code",
   "execution_count": 311,
   "metadata": {},
   "outputs": [],
   "source": [
    "from datasketch import MinHash"
   ]
  },
  {
   "cell_type": "code",
   "execution_count": 321,
   "metadata": {
    "collapsed": true
   },
   "outputs": [],
   "source": [
    "m1 = MinHash()\n",
    "m2 = MinHash()"
   ]
  },
  {
   "cell_type": "code",
   "execution_count": 319,
   "metadata": {},
   "outputs": [],
   "source": [
    "for val in featureVec[0]:\n",
    "    m1.update(str(val).encode('utf-8'))"
   ]
  },
  {
   "cell_type": "code",
   "execution_count": 339,
   "metadata": {},
   "outputs": [],
   "source": [
    "test = []\n",
    "for i in range(100):\n",
    "    m1 = MinHash()\n",
    "    m1.update(str(featureVec[i]).encode('utf-8'))\n",
    "    for j in range(i, 101):\n",
    "        m2 = MinHash()\n",
    "        m2.update(str(featureVec[j]).encode('utf-8'))\n",
    "        if m1.jaccard(m2) == 1 and i != j:\n",
    "            test.append((i,j))\n",
    "#         test[(i,j)] = m1.jaccard(m2)"
   ]
  },
  {
   "cell_type": "code",
   "execution_count": 346,
   "metadata": {
    "collapsed": true
   },
   "outputs": [],
   "source": [
    "mtest = MinHash()\n",
    "mtest.update(str(featureVec[167]).encode('utf-8'))\n",
    "mtest2 = MinHash()\n",
    "mtest2.update(str(featureVec[194]).encode('utf-8'))"
   ]
  },
  {
   "cell_type": "code",
   "execution_count": 347,
   "metadata": {},
   "outputs": [
    {
     "data": {
      "text/plain": [
       "0.0"
      ]
     },
     "execution_count": 347,
     "metadata": {},
     "output_type": "execute_result"
    }
   ],
   "source": [
    "mtest.jaccard(mtest2)"
   ]
  },
  {
   "cell_type": "code",
   "execution_count": 348,
   "metadata": {},
   "outputs": [],
   "source": [
    "pwr = []\n",
    "for i in range(len(PowerOutage)):\n",
    "    if PowerOutage[i] == 1:\n",
    "        pwr.append(i)"
   ]
  },
  {
   "cell_type": "code",
   "execution_count": 368,
   "metadata": {
    "collapsed": true
   },
   "outputs": [],
   "source": [
    "test = []\n",
    "for i in range(len(pwr) - 1):\n",
    "    m1 = MinHash()\n",
    "    m1.update(str(featureVec[pwr[i]]).encode('utf-8'))\n",
    "    for j in range(i, len(pwr)):\n",
    "        m2 = MinHash()\n",
    "        m2.update(str(featureVec[pwr[j]]).encode('utf-8'))\n",
    "        if m1.jaccard(m2) == 1 and i != j:\n",
    "            test.append((pwr[i],pwr[j]))\n",
    "#         test[(i,j)] = m1.jaccard(m2)"
   ]
  },
  {
   "cell_type": "code",
   "execution_count": 369,
   "metadata": {
    "scrolled": false
   },
   "outputs": [
    {
     "data": {
      "text/plain": [
       "[(167, 608), (228, 907), (545, 1344), (1662, 2369)]"
      ]
     },
     "execution_count": 369,
     "metadata": {},
     "output_type": "execute_result"
    }
   ],
   "source": [
    "test"
   ]
  },
  {
   "cell_type": "code",
   "execution_count": 374,
   "metadata": {},
   "outputs": [
    {
     "data": {
      "text/plain": [
       "DATE                           7/27/2014\n",
       "Average Wind Speed                  7.38\n",
       "PRCP                                0.51\n",
       "TMAX                                  88\n",
       "TMIN                                  58\n",
       "Fastest 2 minute wind speed           32\n",
       "Fastest 5 second wind speed           49\n",
       "Fog/Ice                                0\n",
       "Heavy/Freezing Fog                     0\n",
       "Thunder                                0\n",
       "Smoke/Haze                             0\n",
       "Power Outage                           1\n",
       "Name: 1662, dtype: object"
      ]
     },
     "execution_count": 374,
     "metadata": {},
     "output_type": "execute_result"
    }
   ],
   "source": [
    "df.iloc[1662]"
   ]
  },
  {
   "cell_type": "code",
   "execution_count": 375,
   "metadata": {},
   "outputs": [
    {
     "data": {
      "text/plain": [
       "DATE                           7/8/2016\n",
       "Average Wind Speed                 6.71\n",
       "PRCP                               0.29\n",
       "TMAX                                 89\n",
       "TMIN                                 62\n",
       "Fastest 2 minute wind speed          32\n",
       "Fastest 5 second wind speed          38\n",
       "Fog/Ice                               0\n",
       "Heavy/Freezing Fog                    0\n",
       "Thunder                               0\n",
       "Smoke/Haze                            0\n",
       "Power Outage                          1\n",
       "Name: 2369, dtype: object"
      ]
     },
     "execution_count": 375,
     "metadata": {},
     "output_type": "execute_result"
    }
   ],
   "source": [
    "df.iloc[2369]"
   ]
  },
  {
   "cell_type": "code",
   "execution_count": 376,
   "metadata": {
    "collapsed": true
   },
   "outputs": [],
   "source": [
    "def getRandomIndexes(maxLength, numberIterations=10):\n",
    "    \"\"\"\n",
    "    Input: Max length of the classes generated and number of hashes in the LSH\n",
    "    Output: Get 10 pairs of random values\n",
    "    \"\"\"\n",
    "    randoms = []\n",
    "    for i in range(numberIterations):\n",
    "        a = random.randint(0, maxLength)\n",
    "        b = random.randint(0, maxLength)\n",
    "        randoms.append([a,b])\n",
    "    return randoms"
   ]
  },
  {
   "cell_type": "code",
   "execution_count": 400,
   "metadata": {
    "collapsed": true
   },
   "outputs": [],
   "source": [
    "def minHashFunction(indSet, randoms):\n",
    "    \"\"\"\n",
    "    Input: The set whose hash function is to be found\n",
    "        indSet: Independent Set - The set on which we wish to apply the LSH\n",
    "        buckets: currently unused - will be the number of times we wish to apply minhash or the length of minhash\n",
    "        classes: list of words available\n",
    "        randoms: a,b pair of random numbers\n",
    "    Output: Gives the minhash of the set\n",
    "    \"\"\"\n",
    "    # c should be changed to the lowest prime that comes after the length of classes\n",
    "    # this would ensure that the hashes are uniformly spread\n",
    "    c = 41\n",
    "    # c+1 because it is the next number after the greatest prime\n",
    "    # all possible insertions are always less than this\n",
    "    # len(randoms) = the number of iterations\n",
    "    finalHash = [c+1] * len(randoms)\n",
    "    for i in range(len(randoms)):\n",
    "        # iterate  over the set\n",
    "        for j, val in enumerate(indSet):\n",
    "            # if the value is 1, find the minhash\n",
    "            # a = randoms[i][0]; b = randoms[i][1]\n",
    "            # minhash = (a*x + b) & c\n",
    "            if val == 1:\n",
    "                temp = (randoms[i][0]*j + randoms[i][1]) % c\n",
    "#                 print(temp, finalHash[i])\n",
    "                # track the smallest/minimum\n",
    "                if temp < finalHash[i]:\n",
    "                    finalHash[i] = temp\n",
    "    return finalHash"
   ]
  },
  {
   "cell_type": "code",
   "execution_count": 391,
   "metadata": {
    "collapsed": true
   },
   "outputs": [],
   "source": [
    "def jaccardSimilarity(a, b):\n",
    "    \"\"\"\n",
    "    Input - two sets - a and b\n",
    "    Output - the jaccardian similarity given as a(intersection)b / a(union)b\n",
    "    Gives a value to compare how similar two sets are\n",
    "    \"\"\"\n",
    "    x = set(a)\n",
    "    y = set(b)\n",
    "    num = len(x.intersection(y))\n",
    "    den = len(x.union(y))\n",
    "    return num/den"
   ]
  },
  {
   "cell_type": "code",
   "execution_count": 382,
   "metadata": {},
   "outputs": [
    {
     "data": {
      "text/plain": [
       "39"
      ]
     },
     "execution_count": 382,
     "metadata": {},
     "output_type": "execute_result"
    }
   ],
   "source": [
    "len(featureVec[0])"
   ]
  },
  {
   "cell_type": "code",
   "execution_count": 408,
   "metadata": {},
   "outputs": [],
   "source": [
    "listRandoms = getRandomIndexes(39, 10)"
   ]
  },
  {
   "cell_type": "code",
   "execution_count": 409,
   "metadata": {},
   "outputs": [
    {
     "data": {
      "text/plain": [
       "39"
      ]
     },
     "execution_count": 409,
     "metadata": {},
     "output_type": "execute_result"
    }
   ],
   "source": [
    "len(featureVec[100])"
   ]
  },
  {
   "cell_type": "code",
   "execution_count": 410,
   "metadata": {},
   "outputs": [],
   "source": [
    "comp = []\n",
    "for i in range(9):\n",
    "    a = minHashFunction(featureVec[i], listRandoms)\n",
    "    for j in range(i, 10):\n",
    "        b = minHashFunction(featureVec[j], listRandoms)\n",
    "        comp.append(jaccardSimilarity(a, b))"
   ]
  },
  {
   "cell_type": "code",
   "execution_count": 411,
   "metadata": {},
   "outputs": [
    {
     "data": {
      "text/plain": [
       "[1.0,\n",
       " 0.16666666666666666,\n",
       " 0.4,\n",
       " 0.7142857142857143,\n",
       " 0.4,\n",
       " 0.4,\n",
       " 0.3,\n",
       " 0.7142857142857143,\n",
       " 0.2727272727272727,\n",
       " 0.4,\n",
       " 1.0,\n",
       " 0.23076923076923078,\n",
       " 0.16666666666666666,\n",
       " 0.45454545454545453,\n",
       " 0.45454545454545453,\n",
       " 0.36363636363636365,\n",
       " 0.16666666666666666,\n",
       " 0.3333333333333333,\n",
       " 0.3333333333333333,\n",
       " 1.0,\n",
       " 0.4,\n",
       " 0.3333333333333333,\n",
       " 0.3333333333333333,\n",
       " 0.36363636363636365,\n",
       " 0.4,\n",
       " 0.23076923076923078,\n",
       " 0.45454545454545453,\n",
       " 1.0,\n",
       " 0.4,\n",
       " 0.4,\n",
       " 0.3,\n",
       " 1.0,\n",
       " 0.4,\n",
       " 0.4,\n",
       " 1.0,\n",
       " 1.0,\n",
       " 0.5,\n",
       " 0.4,\n",
       " 0.45454545454545453,\n",
       " 0.7777777777777778,\n",
       " 1.0,\n",
       " 0.5,\n",
       " 0.4,\n",
       " 0.45454545454545453,\n",
       " 0.7777777777777778,\n",
       " 1.0,\n",
       " 0.3,\n",
       " 0.5,\n",
       " 0.6666666666666666,\n",
       " 1.0,\n",
       " 0.4,\n",
       " 0.4,\n",
       " 1.0,\n",
       " 0.45454545454545453]"
      ]
     },
     "execution_count": 411,
     "metadata": {},
     "output_type": "execute_result"
    }
   ],
   "source": [
    "comp"
   ]
  }
 ],
 "metadata": {
  "kernelspec": {
   "display_name": "Python 3",
   "language": "python",
   "name": "python3"
  },
  "language_info": {
   "codemirror_mode": {
    "name": "ipython",
    "version": 3
   },
   "file_extension": ".py",
   "mimetype": "text/x-python",
   "name": "python",
   "nbconvert_exporter": "python",
   "pygments_lexer": "ipython3",
   "version": "3.6.2"
  }
 },
 "nbformat": 4,
 "nbformat_minor": 2
}
