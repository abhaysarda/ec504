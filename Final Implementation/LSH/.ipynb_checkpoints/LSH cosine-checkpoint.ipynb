{
 "cells": [
  {
   "cell_type": "code",
   "execution_count": 1,
   "metadata": {},
   "outputs": [
    {
     "name": "stderr",
     "output_type": "stream",
     "text": [
      "/anaconda3/lib/python3.6/site-packages/sklearn/cross_validation.py:41: DeprecationWarning: This module was deprecated in version 0.18 in favor of the model_selection module into which all the refactored classes and functions are moved. Also note that the interface of the new CV iterators are different from that of this module. This module will be removed in 0.20.\n",
      "  \"This module will be removed in 0.20.\", DeprecationWarning)\n"
     ]
    }
   ],
   "source": [
    "#IMPORT MODULES\n",
    "\n",
    "import pandas as pd\n",
    "import matplotlib.pyplot as plt\n",
    "from sklearn import preprocessing\n",
    "import numpy as np\n",
    "from sklearn.cross_validation import train_test_split\n",
    "from sklearn.preprocessing import normalize\n",
    "from sklearn.neighbors import NearestNeighbors\n",
    "from sklearn.metrics import accuracy_score\n",
    "import seaborn as sns\n",
    "from sklearn.metrics import confusion_matrix"
   ]
  },
  {
   "cell_type": "code",
   "execution_count": 2,
   "metadata": {
    "collapsed": true
   },
   "outputs": [],
   "source": [
    "# READ PROCESSED DATA\n",
    "df = pd.read_csv('Final Data');"
   ]
  },
  {
   "cell_type": "code",
   "execution_count": 3,
   "metadata": {
    "collapsed": true
   },
   "outputs": [],
   "source": [
    "#PICK THE REQUIRED FEATURES FROM THE DATASET\n",
    "X = np.array(df[['2 min wind speed squared','Avg Wind Speed Squared','5 second wind speed squared','Fog/Ice','Heavy/Freezing Fog','Thunder']]);\n",
    "y = np.array(df['Power Outage']);\n",
    "\n",
    "#Split the data into X and Y, and then into training and testing sets\n",
    "\n",
    "X_train, X_test, y_train, y_test = train_test_split(X, y, test_size=0.33, random_state = 20);"
   ]
  },
  {
   "cell_type": "code",
   "execution_count": 4,
   "metadata": {
    "collapsed": true
   },
   "outputs": [],
   "source": [
    "# FUNCTIONS RESPONSIBLE FOR GENERATING HASH VALUE AND CHECK HASH SIMILARITY \n",
    "\n",
    "def hashValue(data, planes):\n",
    "\n",
    "    signature = 0\n",
    "    for plane in planes:\n",
    "        signature = signature << 1\n",
    "        val = np.dot(plane,data)\n",
    "        if val >=0:\n",
    "            signature = signature | 1\n",
    "\n",
    "    return signature\n",
    "\n",
    "def onesCount(n):\n",
    "    count = 0\n",
    "    if n == 0:\n",
    "        return 0\n",
    "    else:\n",
    "        while n:\n",
    "            count += 1\n",
    "            n = n & (n-1)\n",
    "    return count"
   ]
  },
  {
   "cell_type": "code",
   "execution_count": 5,
   "metadata": {
    "collapsed": true
   },
   "outputs": [],
   "source": [
    "#DECLARE NUMBER OF RUNS, NUMBER OF PLANES AND DATA DIMENSIONALITY\n",
    "dim = 6\n",
    "bits = 28\n",
    "run = 25"
   ]
  },
  {
   "cell_type": "code",
   "execution_count": 6,
   "metadata": {
    "collapsed": true
   },
   "outputs": [],
   "source": [
    "points_train = X_train;\n",
    "points_test = np.array(X_test)"
   ]
  },
  {
   "cell_type": "code",
   "execution_count": 7,
   "metadata": {
    "collapsed": true
   },
   "outputs": [],
   "source": [
    "#CODE THAT ALLOCATES TESTING DATA TO THE CLOSEST SUBSPACE\n",
    "\n",
    "sig = np.zeros(len(points_train))\n",
    "max_prob = 0\n",
    "pred = np.zeros(len(points_test) * run).reshape(len(points_test), run)\n",
    "predict = np.zeros(len(points_test))\n",
    "actualPoint = np.zeros(len(points_test))\n",
    "#y_test = final_y;\n",
    "#y_test = np.ones(91)\n",
    "\n",
    "for i in range(0, run):\n",
    "    planes = np.random.randn(bits, dim)\n",
    "    \n",
    "    for k in range(0, len(points_train)):\n",
    "        sig[k] = hashValue(points_train[k], planes)\n",
    "        \n",
    "    \n",
    "    for p in range(0, len(points_test)):\n",
    "        point_test = points_test[p]\n",
    "       \n",
    "        sig_test = hashValue(point_test, planes)\n",
    "        \n",
    "        \n",
    "        for j in range(0, len(points_train)):\n",
    "            probSameHash = 1 - (onesCount(sig_test^int(sig[j]))/bits)\n",
    "\n",
    "\n",
    "            if probSameHash>=max_prob:\n",
    "                max_prob = probSameHash\n",
    "                index = j\n",
    "          \n",
    "        actualPoint[p] = index\n",
    "        pred[p][i] = y_train[index]\n",
    "\n",
    "for pr in range (0, len(pred)):\n",
    "    if sum(pred[pr]) >= (run/2):\n",
    "        predict[pr] = 1.0\n",
    "    else:\n",
    "        predict[pr] = 0.0"
   ]
  },
  {
   "cell_type": "code",
   "execution_count": 8,
   "metadata": {},
   "outputs": [
    {
     "name": "stdout",
     "output_type": "stream",
     "text": [
      "0.847619047619\n"
     ]
    }
   ],
   "source": [
    "#ACCURACY CALCULATION\n",
    "\n",
    "accuracy = accuracy_score(predict, y_test);\n",
    "print(accuracy)"
   ]
  },
  {
   "cell_type": "code",
   "execution_count": 9,
   "metadata": {},
   "outputs": [
    {
     "data": {
      "image/png": "[encoded data removed]",
      "text/plain": [
       "<matplotlib.figure.Figure at 0x11260eba8>"
      ]
     },
     "metadata": {},
     "output_type": "display_data"
    }
   ],
   "source": [
    "#HEATMAP GENERATION\n",
    "\n",
    "cm = pd.DataFrame(confusion_matrix(y_test, predict));\n",
    "sns.heatmap(cm, annot=True);\n",
    "plt.show();"
   ]
  },
  {
   "cell_type": "code",
   "execution_count": null,
   "metadata": {
    "collapsed": true
   },
   "outputs": [],
   "source": []
  }
 ],
 "metadata": {
  "kernelspec": {
   "display_name": "Python 3",
   "language": "python",
   "name": "python3"
  },
  "language_info": {
   "codemirror_mode": {
    "name": "ipython",
    "version": 3
   },
   "file_extension": ".py",
   "mimetype": "text/x-python",
   "name": "python",
   "nbconvert_exporter": "python",
   "pygments_lexer": "ipython3",
   "version": "3.6.2"
  }
 },
 "nbformat": 4,
 "nbformat_minor": 2
}
