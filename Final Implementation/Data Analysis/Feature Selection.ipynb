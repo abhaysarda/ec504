{
 "cells": [
  {
   "cell_type": "code",
   "execution_count": 18,
   "metadata": {
    "collapsed": true
   },
   "outputs": [],
   "source": [
    "import pandas as pd\n",
    "import numpy as np\n",
    "from subprocess import check_output\n",
    "from sklearn.feature_selection import SelectKBest\n",
    "from sklearn.feature_selection import chi2\n",
    "from sklearn.base import BaseEstimator, TransformerMixin\n",
    "from sklearn.preprocessing import Imputer\n",
    "from statsmodels.stats.outliers_influence import variance_inflation_factor"
   ]
  },
  {
   "cell_type": "code",
   "execution_count": 19,
   "metadata": {
    "collapsed": true
   },
   "outputs": [],
   "source": [
    "X = pd.read_csv('Clustered Data');"
   ]
  },
  {
   "cell_type": "code",
   "execution_count": 20,
   "metadata": {
    "collapsed": true
   },
   "outputs": [],
   "source": [
    "y= X[['Power Outage']];\n",
    "X = X.drop(['Power Outage'], axis=1);"
   ]
  },
  {
   "cell_type": "code",
   "execution_count": 21,
   "metadata": {
    "collapsed": true
   },
   "outputs": [],
   "source": [
    "from statsmodels.stats.outliers_influence import variance_inflation_factor\n",
    "\n",
    "class ReduceVIF(BaseEstimator, TransformerMixin):\n",
    "    def __init__(self, thresh=5.0, impute=True, impute_strategy='median'):\n",
    "        # From looking at documentation, values between 5 and 10 are \"okay\".\n",
    "        # Above 10 is too high and so should be removed.\n",
    "        self.thresh = thresh\n",
    "        \n",
    "        # The statsmodel function will fail with NaN values, as such we have to impute them.\n",
    "        # By default we impute using the median value.\n",
    "        # This imputation could be taken out and added as part of an sklearn Pipeline.\n",
    "        if impute:\n",
    "            self.imputer = Imputer(strategy=impute_strategy)\n",
    "\n",
    "    def fit(self, X, y=None):\n",
    "        print('ReduceVIF fit')\n",
    "        if hasattr(self, 'imputer'):\n",
    "            self.imputer.fit(X)\n",
    "        return self\n",
    "\n",
    "    def transform(self, X, y=None):\n",
    "        print('ReduceVIF transform')\n",
    "        columns = X.columns.tolist()\n",
    "        if hasattr(self, 'imputer'):\n",
    "            X = pd.DataFrame(self.imputer.transform(X), columns=columns)\n",
    "        return ReduceVIF.calculate_vif(X, self.thresh)\n",
    "\n",
    "    @staticmethod\n",
    "    def calculate_vif(X, thresh=5.0):\n",
    "        # Taken from https://stats.stackexchange.com/a/253620/53565 and modified\n",
    "        dropped=True\n",
    "        while dropped:\n",
    "            variables = X.columns\n",
    "            dropped = False\n",
    "            vif = [variance_inflation_factor(X[variables].values, X.columns.get_loc(var)) for var in X.columns]\n",
    "            \n",
    "            max_vif = max(vif)\n",
    "            if max_vif > thresh:\n",
    "                maxloc = vif.index(max_vif)\n",
    "                print(f'Dropping {X.columns[maxloc]} with vif={max_vif}')\n",
    "                X = X.drop([X.columns.tolist()[maxloc]], axis=1)\n",
    "                dropped=True\n",
    "        return X"
   ]
  },
  {
   "cell_type": "code",
   "execution_count": 22,
   "metadata": {},
   "outputs": [
    {
     "name": "stdout",
     "output_type": "stream",
     "text": [
      "ReduceVIF fit\n",
      "ReduceVIF transform\n",
      "Dropping TMIN with vif=90.28904905165327\n",
      "Dropping Fastest 2 minute wind speed with vif=71.39929304456756\n",
      "Dropping Average Wind Speed with vif=36.76568663833916\n",
      "Dropping Fastest 5 second wind speed with vif=34.851732121206076\n"
     ]
    },
    {
     "data": {
      "text/html": [
       "<div>\n",
       "<style>\n",
       "    .dataframe thead tr:only-child th {\n",
       "        text-align: right;\n",
       "    }\n",
       "\n",
       "    .dataframe thead th {\n",
       "        text-align: left;\n",
       "    }\n",
       "\n",
       "    .dataframe tbody tr th {\n",
       "        vertical-align: top;\n",
       "    }\n",
       "</style>\n",
       "<table border=\"1\" class=\"dataframe\">\n",
       "  <thead>\n",
       "    <tr style=\"text-align: right;\">\n",
       "      <th></th>\n",
       "      <th>PRCP</th>\n",
       "      <th>TMAX</th>\n",
       "      <th>5 second wind speed squared</th>\n",
       "      <th>2 min wind speed squared</th>\n",
       "      <th>Avg Wind Speed Squared</th>\n",
       "      <th>Fog/Ice</th>\n",
       "      <th>Heavy/Freezing Fog</th>\n",
       "      <th>Thunder</th>\n",
       "      <th>Smoke/Haze</th>\n",
       "    </tr>\n",
       "  </thead>\n",
       "  <tbody>\n",
       "    <tr>\n",
       "      <th>0</th>\n",
       "      <td>0.000000</td>\n",
       "      <td>0.833333</td>\n",
       "      <td>0.198995</td>\n",
       "      <td>0.140554</td>\n",
       "      <td>0.012298</td>\n",
       "      <td>1.000000</td>\n",
       "      <td>1.000000e+00</td>\n",
       "      <td>2.775558e-17</td>\n",
       "      <td>1.000000</td>\n",
       "    </tr>\n",
       "    <tr>\n",
       "      <th>1</th>\n",
       "      <td>0.048145</td>\n",
       "      <td>0.441457</td>\n",
       "      <td>0.022391</td>\n",
       "      <td>0.059649</td>\n",
       "      <td>0.230727</td>\n",
       "      <td>0.342857</td>\n",
       "      <td>2.857143e-02</td>\n",
       "      <td>2.857143e-02</td>\n",
       "      <td>0.228571</td>\n",
       "    </tr>\n",
       "    <tr>\n",
       "      <th>2</th>\n",
       "      <td>0.000000</td>\n",
       "      <td>0.509804</td>\n",
       "      <td>0.873104</td>\n",
       "      <td>0.190027</td>\n",
       "      <td>0.511535</td>\n",
       "      <td>0.000000</td>\n",
       "      <td>4.163336e-17</td>\n",
       "      <td>2.775558e-17</td>\n",
       "      <td>0.000000</td>\n",
       "    </tr>\n",
       "    <tr>\n",
       "      <th>3</th>\n",
       "      <td>0.254144</td>\n",
       "      <td>0.607843</td>\n",
       "      <td>0.539106</td>\n",
       "      <td>0.060781</td>\n",
       "      <td>0.175958</td>\n",
       "      <td>1.000000</td>\n",
       "      <td>4.163336e-17</td>\n",
       "      <td>2.775558e-17</td>\n",
       "      <td>0.000000</td>\n",
       "    </tr>\n",
       "    <tr>\n",
       "      <th>4</th>\n",
       "      <td>0.030241</td>\n",
       "      <td>0.737874</td>\n",
       "      <td>0.010662</td>\n",
       "      <td>0.027464</td>\n",
       "      <td>0.071981</td>\n",
       "      <td>0.326316</td>\n",
       "      <td>1.578947e-01</td>\n",
       "      <td>5.263158e-02</td>\n",
       "      <td>0.105263</td>\n",
       "    </tr>\n",
       "  </tbody>\n",
       "</table>\n",
       "</div>"
      ],
      "text/plain": [
       "       PRCP      TMAX  5 second wind speed squared  2 min wind speed squared  \\\n",
       "0  0.000000  0.833333                     0.198995                  0.140554   \n",
       "1  0.048145  0.441457                     0.022391                  0.059649   \n",
       "2  0.000000  0.509804                     0.873104                  0.190027   \n",
       "3  0.254144  0.607843                     0.539106                  0.060781   \n",
       "4  0.030241  0.737874                     0.010662                  0.027464   \n",
       "\n",
       "   Avg Wind Speed Squared   Fog/Ice  Heavy/Freezing Fog       Thunder  \\\n",
       "0                0.012298  1.000000        1.000000e+00  2.775558e-17   \n",
       "1                0.230727  0.342857        2.857143e-02  2.857143e-02   \n",
       "2                0.511535  0.000000        4.163336e-17  2.775558e-17   \n",
       "3                0.175958  1.000000        4.163336e-17  2.775558e-17   \n",
       "4                0.071981  0.326316        1.578947e-01  5.263158e-02   \n",
       "\n",
       "   Smoke/Haze  \n",
       "0    1.000000  \n",
       "1    0.228571  \n",
       "2    0.000000  \n",
       "3    0.000000  \n",
       "4    0.105263  "
      ]
     },
     "execution_count": 22,
     "metadata": {},
     "output_type": "execute_result"
    }
   ],
   "source": [
    "transformer = ReduceVIF()\n",
    "X= transformer.fit_transform(X,y);\n",
    "X.head()"
   ]
  },
  {
   "cell_type": "code",
   "execution_count": 23,
   "metadata": {
    "collapsed": true
   },
   "outputs": [],
   "source": [
    "#Concatenate the data again\n",
    "finalData = pd.concat([X,y], axis=1);\n",
    "finalData.to_csv('Final Data', index=False);"
   ]
  },
  {
   "cell_type": "code",
   "execution_count": 24,
   "metadata": {
    "collapsed": true
   },
   "outputs": [],
   "source": [
    "\"\"\"\n",
    "The results from the best feature extraction was done manually, i.e. after finding the important variables, we \n",
    "simply selected the data before analyzing it\n",
    "\"\"\"\n",
    "X_new = SelectKBest(chi2, k=6).fit_transform(X.values,y.values)\n",
    "X = pd.DataFrame(X_new);"
   ]
  },
  {
   "cell_type": "code",
   "execution_count": 25,
   "metadata": {},
   "outputs": [
    {
     "data": {
      "text/html": [
       "<div>\n",
       "<style>\n",
       "    .dataframe thead tr:only-child th {\n",
       "        text-align: right;\n",
       "    }\n",
       "\n",
       "    .dataframe thead th {\n",
       "        text-align: left;\n",
       "    }\n",
       "\n",
       "    .dataframe tbody tr th {\n",
       "        vertical-align: top;\n",
       "    }\n",
       "</style>\n",
       "<table border=\"1\" class=\"dataframe\">\n",
       "  <thead>\n",
       "    <tr style=\"text-align: right;\">\n",
       "      <th></th>\n",
       "      <th>0</th>\n",
       "      <th>1</th>\n",
       "      <th>2</th>\n",
       "      <th>3</th>\n",
       "      <th>4</th>\n",
       "      <th>5</th>\n",
       "    </tr>\n",
       "  </thead>\n",
       "  <tbody>\n",
       "    <tr>\n",
       "      <th>0</th>\n",
       "      <td>0.198995</td>\n",
       "      <td>0.140554</td>\n",
       "      <td>0.012298</td>\n",
       "      <td>1.000000</td>\n",
       "      <td>1.000000e+00</td>\n",
       "      <td>2.775558e-17</td>\n",
       "    </tr>\n",
       "    <tr>\n",
       "      <th>1</th>\n",
       "      <td>0.022391</td>\n",
       "      <td>0.059649</td>\n",
       "      <td>0.230727</td>\n",
       "      <td>0.342857</td>\n",
       "      <td>2.857143e-02</td>\n",
       "      <td>2.857143e-02</td>\n",
       "    </tr>\n",
       "    <tr>\n",
       "      <th>2</th>\n",
       "      <td>0.873104</td>\n",
       "      <td>0.190027</td>\n",
       "      <td>0.511535</td>\n",
       "      <td>0.000000</td>\n",
       "      <td>4.163336e-17</td>\n",
       "      <td>2.775558e-17</td>\n",
       "    </tr>\n",
       "    <tr>\n",
       "      <th>3</th>\n",
       "      <td>0.539106</td>\n",
       "      <td>0.060781</td>\n",
       "      <td>0.175958</td>\n",
       "      <td>1.000000</td>\n",
       "      <td>4.163336e-17</td>\n",
       "      <td>2.775558e-17</td>\n",
       "    </tr>\n",
       "    <tr>\n",
       "      <th>4</th>\n",
       "      <td>0.010662</td>\n",
       "      <td>0.027464</td>\n",
       "      <td>0.071981</td>\n",
       "      <td>0.326316</td>\n",
       "      <td>1.578947e-01</td>\n",
       "      <td>5.263158e-02</td>\n",
       "    </tr>\n",
       "  </tbody>\n",
       "</table>\n",
       "</div>"
      ],
      "text/plain": [
       "          0         1         2         3             4             5\n",
       "0  0.198995  0.140554  0.012298  1.000000  1.000000e+00  2.775558e-17\n",
       "1  0.022391  0.059649  0.230727  0.342857  2.857143e-02  2.857143e-02\n",
       "2  0.873104  0.190027  0.511535  0.000000  4.163336e-17  2.775558e-17\n",
       "3  0.539106  0.060781  0.175958  1.000000  4.163336e-17  2.775558e-17\n",
       "4  0.010662  0.027464  0.071981  0.326316  1.578947e-01  5.263158e-02"
      ]
     },
     "execution_count": 25,
     "metadata": {},
     "output_type": "execute_result"
    }
   ],
   "source": [
    "X.head()"
   ]
  }
 ],
 "metadata": {
  "kernelspec": {
   "display_name": "Python 3",
   "language": "python",
   "name": "python3"
  },
  "language_info": {
   "codemirror_mode": {
    "name": "ipython",
    "version": 3
   },
   "file_extension": ".py",
   "mimetype": "text/x-python",
   "name": "python",
   "nbconvert_exporter": "python",
   "pygments_lexer": "ipython3",
   "version": "3.6.2"
  }
 },
 "nbformat": 4,
 "nbformat_minor": 2
}
