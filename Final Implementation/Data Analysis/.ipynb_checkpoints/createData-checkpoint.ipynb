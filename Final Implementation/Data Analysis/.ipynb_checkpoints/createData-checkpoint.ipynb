{
 "cells": [
  {
   "cell_type": "code",
   "execution_count": 29,
   "metadata": {
    "collapsed": true
   },
   "outputs": [],
   "source": [
    "\"\"\"\n",
    "The purpose of this file is to take in the entire data for Ann Arbor Airport, resample and scale it to 0->1 range\n",
    "and output it as a .csv file for the other notebooks to process further. \n",
    "\n",
    "The feature analysis notebook will extract the most meaningful features and remove multicollinearity\n",
    "\n",
    "The data was collected via Climate data online, NOAA. We manually entered the power outage data in. \n",
    "\"\"\"\n",
    "import pandas as pd\n",
    "import pandas_ml as pdml\n",
    "import numpy as np\n",
    "import matplotlib.pyplot as plt\n",
    "from sklearn import preprocessing\n",
    "from sklearn.decomposition import PCA\n"
   ]
  },
  {
   "cell_type": "code",
   "execution_count": 30,
   "metadata": {
    "collapsed": true
   },
   "outputs": [],
   "source": [
    "#Load data\n",
    "df = pd.read_csv('data.csv');\n",
    "#Replace NaN with 0\n",
    "df = df.fillna(0);\n",
    "df['DATE'] = pd.to_datetime(df['DATE']);"
   ]
  },
  {
   "cell_type": "code",
   "execution_count": 31,
   "metadata": {
    "collapsed": true
   },
   "outputs": [],
   "source": [
    "#Add columns for wind squared and reorder the tables\n",
    "df['Avg Wind Speed Squared'] = pd.Series(np.square(df['Average Wind Speed']), index=df.index)\n",
    "df['5 second wind speed squared'] = pd.Series(np.square(df['Fastest 5 second wind speed']));\n",
    "df['2 min wind speed squared'] = pd.Series(np.square(df['Fastest 2 minute wind speed']));\n",
    "df = df[['Power Outage', 'PRCP', 'TMAX','TMIN','Fastest 5 second wind speed','5 second wind speed squared', 'Fastest 2 minute wind speed' ,'2 min wind speed squared','Average Wind Speed','Avg Wind Speed Squared','Fog/Ice', 'Heavy/Freezing Fog', 'Thunder','Smoke/Haze']];\n"
   ]
  },
  {
   "cell_type": "code",
   "execution_count": 32,
   "metadata": {},
   "outputs": [
    {
     "name": "stdout",
     "output_type": "stream",
     "text": [
      "Initial Counts\n",
      "0.0    2751\n",
      "1.0     159\n",
      "Name: Power Outage, dtype: int64\n",
      "After sampling Counts:\n",
      "1.0    159\n",
      "0.0    159\n",
      "Name: Power Outage, dtype: int64\n"
     ]
    },
    {
     "data": {
      "text/html": [
       "<div>\n",
       "<style>\n",
       "    .dataframe thead tr:only-child th {\n",
       "        text-align: right;\n",
       "    }\n",
       "\n",
       "    .dataframe thead th {\n",
       "        text-align: left;\n",
       "    }\n",
       "\n",
       "    .dataframe tbody tr th {\n",
       "        vertical-align: top;\n",
       "    }\n",
       "</style>\n",
       "<table border=\"1\" class=\"dataframe\">\n",
       "  <thead>\n",
       "    <tr style=\"text-align: right;\">\n",
       "      <th></th>\n",
       "      <th>Power Outage</th>\n",
       "      <th>PRCP</th>\n",
       "      <th>TMAX</th>\n",
       "      <th>TMIN</th>\n",
       "      <th>Fastest 5 second wind speed</th>\n",
       "      <th>5 second wind speed squared</th>\n",
       "      <th>Fastest 2 minute wind speed</th>\n",
       "      <th>2 min wind speed squared</th>\n",
       "      <th>Average Wind Speed</th>\n",
       "      <th>Avg Wind Speed Squared</th>\n",
       "      <th>Fog/Ice</th>\n",
       "      <th>Heavy/Freezing Fog</th>\n",
       "      <th>Thunder</th>\n",
       "      <th>Smoke/Haze</th>\n",
       "    </tr>\n",
       "  </thead>\n",
       "  <tbody>\n",
       "    <tr>\n",
       "      <th>0</th>\n",
       "      <td>0.0</td>\n",
       "      <td>0.000000</td>\n",
       "      <td>85.000000</td>\n",
       "      <td>53.000000</td>\n",
       "      <td>83.000000</td>\n",
       "      <td>6889.000000</td>\n",
       "      <td>32.000000</td>\n",
       "      <td>1024.000000</td>\n",
       "      <td>2.910000</td>\n",
       "      <td>8.468100</td>\n",
       "      <td>1.000000</td>\n",
       "      <td>1.000000</td>\n",
       "      <td>0.000000</td>\n",
       "      <td>1.000000</td>\n",
       "    </tr>\n",
       "    <tr>\n",
       "      <th>1</th>\n",
       "      <td>0.0</td>\n",
       "      <td>0.087143</td>\n",
       "      <td>45.028571</td>\n",
       "      <td>26.228571</td>\n",
       "      <td>29.357143</td>\n",
       "      <td>862.007143</td>\n",
       "      <td>21.720000</td>\n",
       "      <td>471.888000</td>\n",
       "      <td>10.692857</td>\n",
       "      <td>115.096254</td>\n",
       "      <td>0.342857</td>\n",
       "      <td>0.028571</td>\n",
       "      <td>0.028571</td>\n",
       "      <td>0.228571</td>\n",
       "    </tr>\n",
       "    <tr>\n",
       "      <th>2</th>\n",
       "      <td>0.0</td>\n",
       "      <td>0.000000</td>\n",
       "      <td>52.000000</td>\n",
       "      <td>35.000000</td>\n",
       "      <td>172.900000</td>\n",
       "      <td>29894.410000</td>\n",
       "      <td>36.900000</td>\n",
       "      <td>1361.610000</td>\n",
       "      <td>15.880000</td>\n",
       "      <td>252.174400</td>\n",
       "      <td>0.000000</td>\n",
       "      <td>0.000000</td>\n",
       "      <td>0.000000</td>\n",
       "      <td>0.000000</td>\n",
       "    </tr>\n",
       "    <tr>\n",
       "      <th>3</th>\n",
       "      <td>0.0</td>\n",
       "      <td>0.460000</td>\n",
       "      <td>62.000000</td>\n",
       "      <td>38.000000</td>\n",
       "      <td>136.000000</td>\n",
       "      <td>18496.000000</td>\n",
       "      <td>21.900000</td>\n",
       "      <td>479.610000</td>\n",
       "      <td>9.400000</td>\n",
       "      <td>88.360000</td>\n",
       "      <td>1.000000</td>\n",
       "      <td>0.000000</td>\n",
       "      <td>0.000000</td>\n",
       "      <td>0.000000</td>\n",
       "    </tr>\n",
       "    <tr>\n",
       "      <th>4</th>\n",
       "      <td>0.0</td>\n",
       "      <td>0.054737</td>\n",
       "      <td>75.263158</td>\n",
       "      <td>49.084211</td>\n",
       "      <td>21.483158</td>\n",
       "      <td>461.727474</td>\n",
       "      <td>15.868421</td>\n",
       "      <td>252.254211</td>\n",
       "      <td>5.952632</td>\n",
       "      <td>37.603141</td>\n",
       "      <td>0.326316</td>\n",
       "      <td>0.157895</td>\n",
       "      <td>0.052632</td>\n",
       "      <td>0.105263</td>\n",
       "    </tr>\n",
       "  </tbody>\n",
       "</table>\n",
       "</div>"
      ],
      "text/plain": [
       "   Power Outage      PRCP       TMAX       TMIN  Fastest 5 second wind speed  \\\n",
       "0           0.0  0.000000  85.000000  53.000000                    83.000000   \n",
       "1           0.0  0.087143  45.028571  26.228571                    29.357143   \n",
       "2           0.0  0.000000  52.000000  35.000000                   172.900000   \n",
       "3           0.0  0.460000  62.000000  38.000000                   136.000000   \n",
       "4           0.0  0.054737  75.263158  49.084211                    21.483158   \n",
       "\n",
       "   5 second wind speed squared  Fastest 2 minute wind speed  \\\n",
       "0                  6889.000000                    32.000000   \n",
       "1                   862.007143                    21.720000   \n",
       "2                 29894.410000                    36.900000   \n",
       "3                 18496.000000                    21.900000   \n",
       "4                   461.727474                    15.868421   \n",
       "\n",
       "   2 min wind speed squared  Average Wind Speed  Avg Wind Speed Squared  \\\n",
       "0               1024.000000            2.910000                8.468100   \n",
       "1                471.888000           10.692857              115.096254   \n",
       "2               1361.610000           15.880000              252.174400   \n",
       "3                479.610000            9.400000               88.360000   \n",
       "4                252.254211            5.952632               37.603141   \n",
       "\n",
       "    Fog/Ice  Heavy/Freezing Fog   Thunder  Smoke/Haze  \n",
       "0  1.000000            1.000000  0.000000    1.000000  \n",
       "1  0.342857            0.028571  0.028571    0.228571  \n",
       "2  0.000000            0.000000  0.000000    0.000000  \n",
       "3  1.000000            0.000000  0.000000    0.000000  \n",
       "4  0.326316            0.157895  0.052632    0.105263  "
      ]
     },
     "execution_count": 32,
     "metadata": {},
     "output_type": "execute_result"
    }
   ],
   "source": [
    "#Under sample based on Cluster Centroids\n",
    "df_ML = pdml.ModelFrame(df, target = 'Power Outage')\n",
    "df_ML.target_name\n",
    "print(\"Initial Counts\");\n",
    "print(df_ML.target.value_counts());\n",
    "sampler = df_ML.imbalance.under_sampling.ClusterCentroids();\n",
    "sampled = df_ML.fit_sample(sampler);\n",
    "print(\"After sampling Counts:\")\n",
    "print(sampled.target.value_counts());\n",
    "finalData = pd.DataFrame(sampled);\n",
    "finalData.head()"
   ]
  },
  {
   "cell_type": "code",
   "execution_count": 33,
   "metadata": {
    "collapsed": true
   },
   "outputs": [],
   "source": [
    "#This was our initial approach, but it gave substantially less accuracy\n",
    "# Random Split\n",
    "#Split the data in two parts.\n",
    "# powerOutages = df.loc[df['Power Outage'] == 1];\n",
    "# noPowerOutages = df.loc[df['Power Outage'] == 0];\n",
    "\n",
    "# zeroDays = noPowerOutages.sample(159);\n",
    "# finalData = pd.concat([powerOutages,zeroDays]);\n",
    "# finalData = finalData.sample(318);\n"
   ]
  },
  {
   "cell_type": "code",
   "execution_count": 34,
   "metadata": {
    "collapsed": true
   },
   "outputs": [],
   "source": [
    "#Scale down the data to a 0->1 range\n",
    "scaledData = preprocessing.MinMaxScaler().fit_transform(finalData.values);\n",
    "finalData = pd.DataFrame(scaledData, index = finalData.index, columns = finalData.columns);"
   ]
  },
  {
   "cell_type": "code",
   "execution_count": 35,
   "metadata": {
    "collapsed": true
   },
   "outputs": [],
   "source": [
    "finalData.to_csv('Clustered Data', index = False);"
   ]
  }
 ],
 "metadata": {
  "kernelspec": {
   "display_name": "Python 3",
   "language": "python",
   "name": "python3"
  },
  "language_info": {
   "codemirror_mode": {
    "name": "ipython",
    "version": 3
   },
   "file_extension": ".py",
   "mimetype": "text/x-python",
   "name": "python",
   "nbconvert_exporter": "python",
   "pygments_lexer": "ipython3",
   "version": "3.6.2"
  }
 },
 "nbformat": 4,
 "nbformat_minor": 2
}
