{
 "cells": [
  {
   "cell_type": "markdown",
   "metadata": {},
   "source": [
    "Steps:\n",
    "    1) Find the Jacardian distance = A int b/ A uni B <br>\n",
    "    2) Find the MinHash of each bucket given by - (ax+b)%m where a and b are good constants and m is the number of buckets <br>\n",
    "    Other methods:<br>\n",
    "        Hammming - i-th value of vector x <br>\n",
    "        Cosine - Sign of the dot product of x and a random vector<br>\n",
    "    To create different hash functions:<br>\n",
    "        hi(x) = h1(x) + i * h2(x) where i ranges from 1 to number of hash functions required<br>"
   ]
  },
  {
   "cell_type": "code",
   "execution_count": 523,
   "metadata": {
    "collapsed": true
   },
   "outputs": [],
   "source": [
    "from collections import Counter\n",
    "import random\n",
    "import sys"
   ]
  },
  {
   "cell_type": "code",
   "execution_count": 9,
   "metadata": {
    "collapsed": true
   },
   "outputs": [],
   "source": [
    "def jaccardSimilarity(a, b):\n",
    "    \"\"\"\n",
    "    Input - two sets - a and b\n",
    "    Output - the jaccardian similarity\n",
    "    \"\"\"\n",
    "    x = set(a)\n",
    "    y = set(b)\n",
    "    num = len(x.intersection(y))\n",
    "    den = len(x.union(y))\n",
    "    return num/den"
   ]
  },
  {
   "cell_type": "code",
   "execution_count": 22,
   "metadata": {
    "collapsed": true
   },
   "outputs": [],
   "source": [
    "def getClasses(listItems):\n",
    "    \"\"\"\n",
    "    Input: List of all the sets\n",
    "    Output: A set of unique items which are present in the list of images\n",
    "    \"\"\"\n",
    "    classes = []\n",
    "    for setVal in listItems:\n",
    "        for indSet in setVal:\n",
    "            if indSet not in classes:\n",
    "                classes.append(indSet)\n",
    "    return classes"
   ]
  },
  {
   "cell_type": "code",
   "execution_count": 29,
   "metadata": {
    "collapsed": true
   },
   "outputs": [],
   "source": [
    "def convertToMatrix(classes, indSet):\n",
    "    \"\"\"\n",
    "    Input: The class available\n",
    "    Output: A matrix representatin of the same (binary encoding)\n",
    "    \"\"\"\n",
    "    matList = [0] * len(classes)\n",
    "    for val in indSet:\n",
    "        if val in classes:\n",
    "            matList[classes.index(val)] = 1\n",
    "    return matList"
   ]
  },
  {
   "cell_type": "code",
   "execution_count": 330,
   "metadata": {},
   "outputs": [
    {
     "data": {
      "text/plain": [
       "[[], [], [], [], [], [], [], [], [], []]"
      ]
     },
     "execution_count": 330,
     "metadata": {},
     "output_type": "execute_result"
    }
   ],
   "source": [
    "[[]] * 10"
   ]
  },
  {
   "cell_type": "code",
   "execution_count": 390,
   "metadata": {
    "collapsed": true
   },
   "outputs": [],
   "source": [
    "def getRandomIndexes(maxLength, numberIterations=10):\n",
    "    randoms = []\n",
    "    for i in range(numberIterations):\n",
    "        a = random.randint(0, maxLength)\n",
    "        b = random.randint(0, maxLength)\n",
    "        randoms.append([a,b])\n",
    "    return randoms"
   ]
  },
  {
   "cell_type": "code",
   "execution_count": 656,
   "metadata": {},
   "outputs": [],
   "source": [
    "def minHashFunction(indSet, buckets, classes, randoms):\n",
    "    \"\"\"\n",
    "    Input: The set whose hash function is to be found\n",
    "    \"\"\"\n",
    "    finalHash = [68] * len(randoms)\n",
    "    for i in range(len(randoms)):\n",
    "#     for i in range(10):\n",
    "        for j, val in enumerate(indSet):\n",
    "            if val == 1:\n",
    "                temp = (randoms[i][0]*j + randoms[i][1]) % 67\n",
    "                print(temp, finalHash[i])\n",
    "                if temp < finalHash[i]:\n",
    "                    finalHash[i] = temp\n",
    "    return finalHash"
   ]
  },
  {
   "cell_type": "code",
   "execution_count": 609,
   "metadata": {},
   "outputs": [],
   "source": [
    "a = minHashFunction(firstMatrix, 7, setOfClasses, setOfRandoms)"
   ]
  },
  {
   "cell_type": "code",
   "execution_count": 610,
   "metadata": {},
   "outputs": [],
   "source": [
    "b = minHashFunction(secondMatrix, 7, setOfClasses, setOfRandoms)"
   ]
  },
  {
   "cell_type": "code",
   "execution_count": 611,
   "metadata": {
    "collapsed": true
   },
   "outputs": [],
   "source": [
    "c = minHashFunction(thirdMatrix, 7, setOfClasses, setOfRandoms)\n",
    "d = minHashFunction(fourthMatrix, 7, setOfClasses, setOfRandoms)"
   ]
  },
  {
   "cell_type": "code",
   "execution_count": 666,
   "metadata": {},
   "outputs": [
    {
     "data": {
      "text/plain": [
       "0.75"
      ]
     },
     "execution_count": 666,
     "metadata": {},
     "output_type": "execute_result"
    }
   ],
   "source": [
    "jacardSimilarity(a,c)"
   ]
  },
  {
   "cell_type": "code",
   "execution_count": 659,
   "metadata": {},
   "outputs": [
    {
     "data": {
      "text/plain": [
       "0.6666666666666666"
      ]
     },
     "execution_count": 659,
     "metadata": {},
     "output_type": "execute_result"
    }
   ],
   "source": [
    "jaccardSimilarity(a, b)"
   ]
  },
  {
   "cell_type": "code",
   "execution_count": 603,
   "metadata": {},
   "outputs": [],
   "source": [
    "b = minHashFunction(firstMatrix, 7, setOfClasses, setOfRandoms)"
   ]
  },
  {
   "cell_type": "code",
   "execution_count": 605,
   "metadata": {},
   "outputs": [],
   "source": [
    "c = minHashFunction(fourthMatrix, 7, setOfClasses, setOfRandoms)"
   ]
  },
  {
   "cell_type": "code",
   "execution_count": 639,
   "metadata": {},
   "outputs": [],
   "source": [
    "setOfRandoms = getRandomIndexes(65, 5)"
   ]
  },
  {
   "cell_type": "code",
   "execution_count": 525,
   "metadata": {
    "collapsed": true
   },
   "outputs": [],
   "source": [
    "testMatrixSetOfWords = [firstMatrix, secondMatrix, thirdMatrix]"
   ]
  },
  {
   "cell_type": "code",
   "execution_count": 305,
   "metadata": {
    "scrolled": true
   },
   "outputs": [
    {
     "data": {
      "text/plain": [
       "0.6666666666666666"
      ]
     },
     "execution_count": 305,
     "metadata": {},
     "output_type": "execute_result"
    }
   ],
   "source": [
    "jaccardSimilarity(minHashFunction(firstMatrix, 7, setOfClasses),minHashFunction(thirdMatrix, 7, setOfClasses))"
   ]
  },
  {
   "cell_type": "code",
   "execution_count": 515,
   "metadata": {},
   "outputs": [
    {
     "data": {
      "text/plain": [
       "[585, 3250, 4095, 3900, 975, 3445, 1820, 455, 65, 2730]"
      ]
     },
     "execution_count": 515,
     "metadata": {},
     "output_type": "execute_result"
    }
   ],
   "source": [
    "minHashFunction(firstMatrix, 7, setOfClasses, setOfRandoms)"
   ]
  },
  {
   "cell_type": "code",
   "execution_count": 516,
   "metadata": {},
   "outputs": [
    {
     "data": {
      "text/plain": [
       "[585, 3250, 4095, 3900, 975, 3445, 1820, 455, 65, 2730]"
      ]
     },
     "execution_count": 516,
     "metadata": {},
     "output_type": "execute_result"
    }
   ],
   "source": [
    "l"
   ]
  },
  {
   "cell_type": "code",
   "execution_count": 446,
   "metadata": {},
   "outputs": [
    {
     "data": {
      "text/plain": [
       "1.0"
      ]
     },
     "execution_count": 446,
     "metadata": {},
     "output_type": "execute_result"
    }
   ],
   "source": [
    "jaccardSimilarity(secondMatrix, fourthMatrix)"
   ]
  },
  {
   "cell_type": "code",
   "execution_count": 455,
   "metadata": {
    "scrolled": true
   },
   "outputs": [
    {
     "data": {
      "text/plain": [
       "[0, 1, 3, 60, 0, 1, 3, 2, 0, 2]"
      ]
     },
     "execution_count": 455,
     "metadata": {},
     "output_type": "execute_result"
    }
   ],
   "source": [
    "r"
   ]
  },
  {
   "cell_type": "code",
   "execution_count": 442,
   "metadata": {},
   "outputs": [
    {
     "data": {
      "text/plain": [
       "1.0"
      ]
     },
     "execution_count": 442,
     "metadata": {},
     "output_type": "execute_result"
    }
   ],
   "source": [
    "jaccardSimilarity(l,r)"
   ]
  },
  {
   "cell_type": "code",
   "execution_count": 279,
   "metadata": {},
   "outputs": [
    {
     "data": {
      "text/plain": [
       "65"
      ]
     },
     "execution_count": 279,
     "metadata": {},
     "output_type": "execute_result"
    }
   ],
   "source": [
    "len(setOfClasses)"
   ]
  },
  {
   "cell_type": "code",
   "execution_count": 433,
   "metadata": {},
   "outputs": [
    {
     "data": {
      "text/plain": [
       "[0, 0, 3, 60, 0, 1, 3, 4, 0, 2]"
      ]
     },
     "execution_count": 433,
     "metadata": {},
     "output_type": "execute_result"
    }
   ],
   "source": [
    "minHashFunction(firstMatrix, 7, setOfClasses, setOfRandoms)"
   ]
  },
  {
   "cell_type": "code",
   "execution_count": 432,
   "metadata": {
    "scrolled": false
   },
   "outputs": [
    {
     "data": {
      "text/plain": [
       "[0, 0, 3, 60, 0, 1, 3, 4, 0, 2]"
      ]
     },
     "execution_count": 432,
     "metadata": {},
     "output_type": "execute_result"
    }
   ],
   "source": [
    "minHashFunction(secondMatrix, 7, setOfClasses, setOfRandoms)"
   ]
  },
  {
   "cell_type": "code",
   "execution_count": 153,
   "metadata": {},
   "outputs": [],
   "source": [
    "plainText1 = \"is this the real life? Is this just fantasy? Caught in a landslide No escape from reality Open your eyes Look up to the skies and see i'm just a poor boy, I need no sympathy Because I'm easy come, easy go\""
   ]
  },
  {
   "cell_type": "code",
   "execution_count": 154,
   "metadata": {
    "collapsed": true
   },
   "outputs": [],
   "source": [
    "plainText2 = \"So close no matter how far Couldn't be much more from the heart Forever trusting who we are And nothing else matters Never opened myself this way Life is ours, we live it our way All these words I don't just say And nothing else matters Trust I seek and I find in you Everyday for us something new Open mind for a different view And nothing else matters\""
   ]
  },
  {
   "cell_type": "code",
   "execution_count": 155,
   "metadata": {},
   "outputs": [],
   "source": [
    "plainText1 = ''.join([x.lower() for x in plainText1])\n",
    "plainText2 = ''.join([x.lower() for x in plainText2])"
   ]
  },
  {
   "cell_type": "code",
   "execution_count": 156,
   "metadata": {},
   "outputs": [],
   "source": [
    "textSet1 = plainText1.split(' ')\n",
    "textSet2 = plainText2.split(' ')"
   ]
  },
  {
   "cell_type": "code",
   "execution_count": 162,
   "metadata": {},
   "outputs": [],
   "source": [
    "testSet = []\n",
    "for i in range(0, 42):\n",
    "    newText = textSet1[i:]+textSet2[:i]\n",
    "    testSet.append(newText)"
   ]
  },
  {
   "cell_type": "code",
   "execution_count": 163,
   "metadata": {},
   "outputs": [
    {
     "data": {
      "text/plain": [
       "69"
      ]
     },
     "execution_count": 163,
     "metadata": {},
     "output_type": "execute_result"
    }
   ],
   "source": [
    "len(textSet2)"
   ]
  },
  {
   "cell_type": "code",
   "execution_count": 164,
   "metadata": {
    "scrolled": true
   },
   "outputs": [
    {
     "data": {
      "text/plain": [
       "42"
      ]
     },
     "execution_count": 164,
     "metadata": {},
     "output_type": "execute_result"
    }
   ],
   "source": [
    "len(testSet)"
   ]
  },
  {
   "cell_type": "code",
   "execution_count": 168,
   "metadata": {},
   "outputs": [
    {
     "data": {
      "text/plain": [
       "['go',\n",
       " 'so',\n",
       " 'close',\n",
       " 'no',\n",
       " 'matter',\n",
       " 'how',\n",
       " 'far',\n",
       " \"couldn't\",\n",
       " 'be',\n",
       " 'much',\n",
       " 'more',\n",
       " 'from',\n",
       " 'the',\n",
       " 'heart',\n",
       " 'forever',\n",
       " 'trusting',\n",
       " 'who',\n",
       " 'we',\n",
       " 'are',\n",
       " 'and',\n",
       " 'nothing',\n",
       " 'else',\n",
       " 'matters',\n",
       " 'never',\n",
       " 'opened',\n",
       " 'myself',\n",
       " 'this',\n",
       " 'way',\n",
       " 'life',\n",
       " 'is',\n",
       " 'ours,',\n",
       " 'we',\n",
       " 'live',\n",
       " 'it',\n",
       " 'our',\n",
       " 'way',\n",
       " 'all',\n",
       " 'these',\n",
       " 'words',\n",
       " 'i',\n",
       " \"don't\",\n",
       " 'just']"
      ]
     },
     "execution_count": 168,
     "metadata": {},
     "output_type": "execute_result"
    }
   ],
   "source": [
    "testSet[41]"
   ]
  },
  {
   "cell_type": "code",
   "execution_count": 170,
   "metadata": {},
   "outputs": [
    {
     "data": {
      "text/plain": [
       "65"
      ]
     },
     "execution_count": 170,
     "metadata": {},
     "output_type": "execute_result"
    }
   ],
   "source": [
    "setOfClasses = getClasses(testSet)\n",
    "len(setOfClasses)"
   ]
  },
  {
   "cell_type": "code",
   "execution_count": 553,
   "metadata": {},
   "outputs": [
    {
     "data": {
      "text/plain": [
       "0.42592592592592593"
      ]
     },
     "execution_count": 553,
     "metadata": {},
     "output_type": "execute_result"
    }
   ],
   "source": [
    "# extremes\n",
    "jaccardSimilarity(testSet[20], testSet[41])"
   ]
  },
  {
   "cell_type": "code",
   "execution_count": 621,
   "metadata": {},
   "outputs": [
    {
     "data": {
      "text/plain": [
       "0.9714285714285714"
      ]
     },
     "execution_count": 621,
     "metadata": {},
     "output_type": "execute_result"
    }
   ],
   "source": [
    "# closest\n",
    "jaccardSimilarity(testSet[0], testSet[1])"
   ]
  },
  {
   "cell_type": "code",
   "execution_count": 647,
   "metadata": {},
   "outputs": [],
   "source": [
    "firstMatrix = convertToMatrix(setOfClasses, testSet[0])\n",
    "secondMatrix = convertToMatrix(setOfClasses, testSet[1])\n",
    "thirdMatrix = convertToMatrix(setOfClasses, testSet[35])\n",
    "fourthMatrix = convertToMatrix(setOfClasses, testSet[20])"
   ]
  },
  {
   "cell_type": "code",
   "execution_count": 648,
   "metadata": {
    "scrolled": true
   },
   "outputs": [
    {
     "data": {
      "text/plain": [
       "0.15384615384615385"
      ]
     },
     "execution_count": 648,
     "metadata": {},
     "output_type": "execute_result"
    }
   ],
   "source": [
    "jaccardSimilarity(testSet[1], testSet[41])"
   ]
  },
  {
   "cell_type": "code",
   "execution_count": 649,
   "metadata": {
    "collapsed": true
   },
   "outputs": [],
   "source": [
    "l = minHashFunction(firstMatrix, 7, setOfClasses, setOfRandoms)\n",
    "r = minHashFunction(secondMatrix, 7, setOfClasses, setOfRandoms)"
   ]
  },
  {
   "cell_type": "code",
   "execution_count": 652,
   "metadata": {
    "scrolled": true
   },
   "outputs": [
    {
     "data": {
      "text/plain": [
       "0.6666666666666666"
      ]
     },
     "execution_count": 652,
     "metadata": {},
     "output_type": "execute_result"
    }
   ],
   "source": [
    "jaccardSimilarity(minHashFunction(fourthMatrix, 7, setOfClasses, setOfRandoms),minHashFunction(secondMatrix, 7, setOfClasses, setOfRandoms))"
   ]
  }
 ],
 "metadata": {
  "kernelspec": {
   "display_name": "Python 3",
   "language": "python",
   "name": "python3"
  },
  "language_info": {
   "codemirror_mode": {
    "name": "ipython",
    "version": 3
   },
   "file_extension": ".py",
   "mimetype": "text/x-python",
   "name": "python",
   "nbconvert_exporter": "python",
   "pygments_lexer": "ipython3",
   "version": "3.6.2"
  }
 },
 "nbformat": 4,
 "nbformat_minor": 2
}
