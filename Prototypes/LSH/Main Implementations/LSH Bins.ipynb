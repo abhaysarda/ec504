{
 "cells": [
  {
   "cell_type": "code",
   "execution_count": 10,
   "metadata": {},
   "outputs": [],
   "source": [
    "#IMPORT MODULES\n",
    "\n",
    "import pandas as pd\n",
    "import matplotlib.pyplot as plt\n",
    "from sklearn import preprocessing\n",
    "import numpy as np\n",
    "import math\n",
    "from sklearn.cross_validation import train_test_split\n",
    "from sklearn.preprocessing import normalize\n",
    "from sklearn.metrics import accuracy_score\n",
    "import seaborn as sns\n",
    "from sklearn.metrics import confusion_matrix"
   ]
  },
  {
   "cell_type": "code",
   "execution_count": 11,
   "metadata": {
    "collapsed": true
   },
   "outputs": [],
   "source": [
    "# READ PROCESSED DATA\n",
    "df = pd.read_csv('Final Data');"
   ]
  },
  {
   "cell_type": "code",
   "execution_count": 13,
   "metadata": {
    "collapsed": true
   },
   "outputs": [],
   "source": [
    "#PICK THE REQUIRED FEATURES FROM THE DATASET\n",
    "\n",
    "#X = np.array(df[['2 min wind speed squared','Avg Wind Speed Squared','5 second wind speed squared','Fog/Ice','Heavy/Freezing Fog','Thunder']]);\n",
    "X = np.array(df[['5 second wind speed squared', '2 min wind speed squared', 'Thunder','Fog/Ice']]);\n",
    "y = np.array(df['Power Outage']);\n",
    "\n",
    "\n",
    "#Split the data into X and Y, and then into training and testing sets\n",
    "\n",
    "X_train, X_test, y_train, y_test = train_test_split(X, y, test_size=0.33, random_state = 20);"
   ]
  },
  {
   "cell_type": "code",
   "execution_count": 14,
   "metadata": {
    "collapsed": true
   },
   "outputs": [],
   "source": [
    "#DECLARE NUMBER OF BINS AND DATA DIMENSIONALITY\n",
    "\n",
    "numberBins = 25  #number of bins for each feature\n",
    "dim = 4"
   ]
  },
  {
   "cell_type": "code",
   "execution_count": 15,
   "metadata": {
    "collapsed": true
   },
   "outputs": [],
   "source": [
    "#CODE RESPONSIBLE FOR GENERATING BUCKETS FOR THE TRAINING DATA TO FALL INTO\n",
    "\n",
    "binNumbers_train = np.zeros(dim)              #The set of feature bins that each data point falls into\n",
    "from collections import defaultdict\n",
    " \n",
    "Buckets_train = defaultdict(list)             #Final number of buckets\n",
    "Values_train =  defaultdict(list)\n",
    "\n",
    "for i in range (0, len(X_train)):\n",
    "    for j in range(0,dim):\n",
    "        c = np.ceil(X_train[i][j] * numberBins)\n",
    "        binNumbers_train[j] = c\n",
    "        s = 0\n",
    "    for k in range(0, len(binNumbers_train)):\n",
    "                    \n",
    "        if binNumbers_train[k] != 0:\n",
    "            s = s + ((binNumbers_train[k]-1)*((numberBins)**(dim-k-1)))    #finding bucket number\n",
    "\n",
    "    bucketNumber = s\n",
    "    Buckets_train[int(s)].append(X_train[i])\n",
    "    Values_train[int(s)].append(y_train[i])\n"
   ]
  },
  {
   "cell_type": "code",
   "execution_count": 16,
   "metadata": {
    "collapsed": true
   },
   "outputs": [],
   "source": [
    "#CODE RESPONSIBLE FOR FINDING THE BUCKET THAT EACH TESTING DATA POINT FALLS INTO\n",
    "\n",
    "predict = np.zeros(len(X_test))   \n",
    "binNumbers_test = np.zeros(dim) \n",
    "actualPredictedPoints = [np.array([])]*len(X_test)\n",
    "for i in range(0, len(X_test)):\n",
    "    for j in range(0,dim):\n",
    "        c = np.ceil(X_test[i][j] * numberBins)\n",
    "        binNumbers_test[j] = c\n",
    "        s = 0\n",
    "    for k in range(0, len(binNumbers_test)):\n",
    "        if binNumbers_test[k] != 0:\n",
    "            s = s + ((binNumbers_test[k]-1)*((numberBins)**(dim-k-1)))    #finding bucket number\n",
    "            \n",
    "\n",
    "    bucketNumber = s\n",
    "    \n",
    "    sumV = sum(Values_train[s])\n",
    "    if sumV == 0:\n",
    "        predict[i] = 0.0\n",
    "    elif sumV > len(Values_train[s])/2:\n",
    "        predict[i] = 1.0\n",
    "    else:\n",
    "        predict[i] = 0.0\n"
   ]
  },
  {
   "cell_type": "code",
   "execution_count": 17,
   "metadata": {},
   "outputs": [
    {
     "name": "stdout",
     "output_type": "stream",
     "text": [
      "0.92380952381\n"
     ]
    }
   ],
   "source": [
    "#PRINTING ACCURACY SCORE\n",
    "\n",
    "accuracy = accuracy_score(y_test, predict);\n",
    "print(accuracy)\n"
   ]
  },
  {
   "cell_type": "code",
   "execution_count": 18,
   "metadata": {},
   "outputs": [
    {
     "data": {
      "image/png": "[encoded data removed]",
      "text/plain": [
       "<matplotlib.figure.Figure at 0x109277c88>"
      ]
     },
     "metadata": {},
     "output_type": "display_data"
    }
   ],
   "source": [
    "#GENERATING HEATMAP\n",
    "\n",
    "cm = pd.DataFrame(confusion_matrix(y_test, predict));\n",
    "\n",
    "sns.heatmap(cm, annot=True);\n",
    "plt.show()"
   ]
  }
 ],
 "metadata": {
  "kernelspec": {
   "display_name": "Python 3",
   "language": "python",
   "name": "python3"
  },
  "language_info": {
   "codemirror_mode": {
    "name": "ipython",
    "version": 3
   },
   "file_extension": ".py",
   "mimetype": "text/x-python",
   "name": "python",
   "nbconvert_exporter": "python",
   "pygments_lexer": "ipython3",
   "version": "3.6.3"
  }
 },
 "nbformat": 4,
 "nbformat_minor": 2
}
